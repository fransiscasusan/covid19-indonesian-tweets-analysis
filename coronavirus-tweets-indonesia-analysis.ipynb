{
 "cells": [
  {
   "cell_type": "markdown",
   "metadata": {},
   "source": [
    "# Analisis Topik-Topik Perbincangan Berbahasa Indonesia di Twitter Seputar Koronavirus"
   ]
  },
  {
   "cell_type": "markdown",
   "metadata": {},
   "source": [
    "### Pendahuluan\n",
    "\n",
    "Pandemi koronavirus bisa dianggap sebagai peristiwa paling signifikan di tahun 2020: sampai tanggal 8 Juni, sudah ada lebih dari 6,9 juta orang yang terinfeksi dan paling tidak 400 ribu di antaranya meninggal dunia. Di Indonesia sendiri, banyaknya kasus positif telah mencapai lebih dari 31 ribu dengan jumlah kasus baru harian yang terus meningkat, menjadikan Indonesia sebagai negara dengan kasus koronavirus terbanyak ke-33 di dunia menurut New York Times (sumber: https://www.nytimes.com/interactive/2020/world/coronavirus-maps.html). Lebih buruknya, riset dari Centre for Mathematical Modelling of Infectious Diseases memperkirakan bahwa hanya sekitar 2 persen dari kasus positif koronavirus di Indonesia telah dilaporkan (sumber: https://www.bbc.com/news/world-asia-52124193).\n",
    "\n",
    "Kita tidak bisa memungkiri bahwa pandemi koronavirus telah membawa akibat negatif bagi industri, pemerintah, dan masyarakat dalam berbagai aspek. Semenjak Indonesia mengumumkan kasus koronavirus pertamanya pada tanggal 2 Maret, berbagai usaha telah dilakukan pemerintah untuk mengurangi pesatnya penularan koronavirus. Hal ini tentunya berdampak pada pertumbuhan ekonomi dan perkembangan sosial.\n",
    "\n",
    "Melalui studi ini, kami ingin memahami hal-hal yang umumnya dibicarakan masyarakat Indonesia semasa pandemi koronavirus ini. Kami memutuskan untuk mempelajari hal ini dengan cara menganalisis aktivitas pengguna Twitter dikarenakan kemudahan memperoleh twit-twit melalui API-nya. Selain itu, keberhasilan pelbagai studi di pelbagai disiplin (termasuk koronavirus; contoh: Ordun, Purushotham, dan Raff (2020)) dalam menggunakan data Twitter untuk mempelajari perilaku manusia menjadi faktor lain yang menjustifikasi metode riset ini.\n",
    "\n",
    "Untuk mendapatkan twit-twit yang berkaitan dengan pandemi koronavirus, kami menggunakan kumpulan _tweet ID_ yang disaring oleh Chen, Lerman, dan Ferrara (2020). Kami mengekstraksi twit-twit yang ditulis pada minggu terakhir Januari, Februari, Maret dan April, serta pertengahan Mei dikarenakan lamanya waktu ekstraksi akibat pembatasan yang diberlakukan Twitter dalam mengambil data menggunakan API-nya. Hal ini akan dijelaskan secara lebih mendetail di bagian selanjutnya.\n",
    "\n",
    "Pertanyaan-pertanyaan yang akan kami jawab dalam studi singkat ini adalah:\n",
    "\n",
    "1. Apa topik-topik yang umumnya dibicarakan oleh masyarakat Indonesia semasa pandemi koronavirus ini? Adakah perbedaan dalam distribusi topik yang berarti setiap bulannya? Apakah kita bisa mengaitkan perbedaan tersebut dengan peristiwa-peristiwa seputar koronavirus yang terjadi di Indonesia?\n",
    "2. Bagaimanakah pola _retweet_ dan _like_ per topik? Twit-twit dengan topik apakah yang menyebar paling cepat di kalangan masyarakat Indonesia?\n",
    "3. Apa hashtag-hashtag yang umumnya digunakan dalam twit yang ditulis masyarakat Indonesia? Adakah perbedaan yang berarti setiap bulannya? Apakah kita bisa mengaitkan penggunaan hashtag dengan topik yang dibicarakan oleh masyarakat Indonesia?"
   ]
  },
  {
   "cell_type": "markdown",
   "metadata": {},
   "source": [
    "Marilah kita mengimpor _package-package_ yang akan kita butuhkan."
   ]
  },
  {
   "cell_type": "code",
   "execution_count": 4,
   "metadata": {},
   "outputs": [],
   "source": [
    "import glob\n",
    "import pandas as pd\n",
    "import numpy as np\n",
    "import json_lines\n",
    "import string\n",
    "import nltk\n",
    "import re\n",
    "from Sastrawi.StopWordRemover.StopWordRemoverFactory import StopWordRemoverFactory\n",
    "from Sastrawi.Stemmer.StemmerFactory import StemmerFactory\n",
    "import gensim\n",
    "import gensim.corpora as corpora\n",
    "from gensim.utils import simple_preprocess\n",
    "from gensim.models import CoherenceModel\n",
    "import pyLDAvis\n",
    "import pyLDAvis.gensim\n",
    "import pprint\n",
    "from collections import Counter\n",
    "import gsdmm\n",
    "from gsdmm.gsdmm import MovieGroupProcess\n",
    "import matplotlib.pyplot as plt\n",
    "import seaborn as sns\n",
    "import operator\n",
    "import stylecloud\n",
    "from PIL import Image\n",
    "\n",
    "#mengabaikan warnings\n",
    "import warnings\n",
    "warnings.filterwarnings('ignore')\n",
    "\n",
    "#mengubah display sehingga bisa menampilkan paling banyak 1000 baris\n",
    "pd.options.display.max_rows = 1000"
   ]
  },
  {
   "cell_type": "markdown",
   "metadata": {},
   "source": [
    "### Pengambilan Data\n",
    "\n",
    "Seperti yang dijelaskan sebelumnya, kami menggunakan _tweet ID_ dari twit-twit yang telah disaring oleh Chen et al. (2020). Setelah itu, kami menjalankan kode yang disediakan di Github mereka (https://github.com/echen102/COVID-19-TweetIDs) untuk mendapatkan atribut yang kami butuhkan untuk setiap _tweet ID_, seperti bahasa, lokasi, teks dan banyaknya _retweet_. Untuk analisis ini, kami hanya menggunakan twit orisinal (twit yang bukan merupakan hasil _retweet_). Selanjutnya, kami melakukan penyaringan bahasa dan lokasi untuk mendapatkan twit-twit yang diinginkan. Berikut adalah langkah-langkah yang kami lakukan secara lebih mendetail:\n",
    "\n",
    "#### Langkah Pertama: Mendapatkan Twit-Twit dan Atributnya dari _Tweet ID_\n",
    "\n",
    "Modifikasi minor dari script $\\texttt{hydrate.py}$ yang mereka sediakan memungkinkan kami untuk mengambil twit-twit yang bertanggal 25-31 Januari, 23-29 Februari, 25-31 Maret, 24-30 April dan 16-22 Mei. Dengan asumsi bahwa file-file tersebut (yang berformat $\\texttt{.jsonl.gz}$) telah tersedia dalam folder $\\texttt{COVID-19-TweetIDs/2020-01}$, $\\texttt{COVID-19-TweetIDs/2020-02}$, $\\texttt{COVID-19-TweetIDs/2020-03}$, $\\texttt{COVID-19-TweetIDs/2020-04}$ dan $\\texttt{COVID-19-TweetIDs/2020-05}$, pengambilan twit-twit dapat dilakukan dengan cara berikut ini:"
   ]
  },
  {
   "cell_type": "code",
   "execution_count": 637,
   "metadata": {},
   "outputs": [],
   "source": [
    "#mendapatkan semua file\n",
    "files = glob.glob('COVID-19-TweetIDs/' + '2020-01' + '/*.gz')\n",
    "files += glob.glob('COVID-19-TweetIDs/' + '2020-02' + '/*.gz')\n",
    "files += glob.glob('COVID-19-TweetIDs/' + '2020-03' + '/*.gz')\n",
    "files += glob.glob('COVID-19-TweetIDs/' + '2020-04' + '/*.gz')\n",
    "files += glob.glob('COVID-19-TweetIDs/' + '2020-05' + '/*.gz')\n",
    "\n",
    "#menaruh setiap tweet ID dan atributnya ke dalam dictionary\n",
    "dictionary = {}\n",
    "count = 0\n",
    "update = 0\n",
    "for file in files:\n",
    "    with json_lines.open(file) as f:\n",
    "        for item in f:\n",
    "            id_ = item['id']\n",
    "            time = item['created_at']\n",
    "            lang = item['lang']\n",
    "            loc = item['user']['location']\n",
    "            text = item['full_text']\n",
    "            ret_cnt = item['retweet_count']\n",
    "            fav_cnt = item['favorite_count']\n",
    "            if 'retweeted_status' in item.keys():\n",
    "                temp = item['retweeted_status']\n",
    "                rt_id_ = temp['id']\n",
    "                rt_time = temp['created_at']\n",
    "                rt_lang = temp['lang']\n",
    "                rt_loc = temp['user']['location']\n",
    "                rt_text = temp['full_text']\n",
    "                rt_ret_cnt = temp['retweet_count']\n",
    "                rt_fav_cnt = temp['favorite_count']\n",
    "            else:\n",
    "                rt_id_, rt_time, rt_lang, rt_loc, rt_text, rt_ret_cnt, rt_fav_cnt = [None] * 7\n",
    "            if rt_id_ is None:\n",
    "                rt = 0\n",
    "            else:\n",
    "                rt = 1\n",
    "            if lang == 'in' and (rt_lang == 'in' or rt_lang == None):\n",
    "                dictionary['row_' + str(count)] = [id_, time, lang, loc, text, ret_cnt,\n",
    "                                              fav_cnt, rt, rt_id_, rt_time, rt_lang, rt_loc,\n",
    "                                              rt_text, rt_ret_cnt, rt_fav_cnt]\n",
    "            count += 1\n",
    "    update += 1\n",
    "    print(str(update) + ' out of ' + str(len(files)), end='\\r')\n",
    "\n",
    "#mentransformasi dictionary ke dalam bentuk dataframe\n",
    "df = pd.DataFrame.from_dict(dictionary, orient='index',\n",
    "                       columns=['id', 'time', 'lang', 'loc', 'text', 'ret_cnt', 'fav_cnt',\n",
    "                               'rt', 'rt_id', 'rt_time', 'rt_lang', 'rt_loc',\n",
    "                               'rt_text', 'rt_ret_cnt', 'rt_fav_cnt'])"
   ]
  },
  {
   "cell_type": "code",
   "execution_count": 638,
   "metadata": {},
   "outputs": [
    {
     "data": {
      "text/html": [
       "<div>\n",
       "<style scoped>\n",
       "    .dataframe tbody tr th:only-of-type {\n",
       "        vertical-align: middle;\n",
       "    }\n",
       "\n",
       "    .dataframe tbody tr th {\n",
       "        vertical-align: top;\n",
       "    }\n",
       "\n",
       "    .dataframe thead th {\n",
       "        text-align: right;\n",
       "    }\n",
       "</style>\n",
       "<table border=\"1\" class=\"dataframe\">\n",
       "  <thead>\n",
       "    <tr style=\"text-align: right;\">\n",
       "      <th></th>\n",
       "      <th>id</th>\n",
       "      <th>time</th>\n",
       "      <th>lang</th>\n",
       "      <th>loc</th>\n",
       "      <th>text</th>\n",
       "      <th>ret_cnt</th>\n",
       "      <th>fav_cnt</th>\n",
       "      <th>rt</th>\n",
       "      <th>rt_id</th>\n",
       "      <th>rt_time</th>\n",
       "      <th>rt_lang</th>\n",
       "      <th>rt_loc</th>\n",
       "      <th>rt_text</th>\n",
       "      <th>rt_ret_cnt</th>\n",
       "      <th>rt_fav_cnt</th>\n",
       "    </tr>\n",
       "  </thead>\n",
       "  <tbody>\n",
       "    <tr>\n",
       "      <th>0</th>\n",
       "      <td>1222490921272365056</td>\n",
       "      <td>Wed Jan 29 12:05:23 +0000 2020</td>\n",
       "      <td>in</td>\n",
       "      <td>Dompu NTB</td>\n",
       "      <td>RT @Ab1id__Dz039: #BongkarSkandalPDIP_KPU\\n\\nK...</td>\n",
       "      <td>28.0</td>\n",
       "      <td>0.0</td>\n",
       "      <td>1.0</td>\n",
       "      <td>1.222425e+18</td>\n",
       "      <td>Wed Jan 29 07:44:29 +0000 2020</td>\n",
       "      <td>in</td>\n",
       "      <td>California, USA</td>\n",
       "      <td>#BongkarSkandalPDIP_KPU\\n\\nKapan Nih FERGUSO I...</td>\n",
       "      <td>28.0</td>\n",
       "      <td>43.0</td>\n",
       "    </tr>\n",
       "    <tr>\n",
       "      <th>1</th>\n",
       "      <td>1222490921964462080</td>\n",
       "      <td>Wed Jan 29 12:05:23 +0000 2020</td>\n",
       "      <td>in</td>\n",
       "      <td>Kuala Lumpur, Wilayah Persekutuan Kuala Lumpur</td>\n",
       "      <td>RT @edjunaidi: Buat apa halang pelancong China...</td>\n",
       "      <td>1782.0</td>\n",
       "      <td>0.0</td>\n",
       "      <td>1.0</td>\n",
       "      <td>1.222158e+18</td>\n",
       "      <td>Tue Jan 28 14:02:09 +0000 2020</td>\n",
       "      <td>in</td>\n",
       "      <td>Kuala Lumpur, MY</td>\n",
       "      <td>Buat apa halang pelancong China dari masuk Mal...</td>\n",
       "      <td>1782.0</td>\n",
       "      <td>1610.0</td>\n",
       "    </tr>\n",
       "    <tr>\n",
       "      <th>2</th>\n",
       "      <td>1222490923352748032</td>\n",
       "      <td>Wed Jan 29 12:05:23 +0000 2020</td>\n",
       "      <td>in</td>\n",
       "      <td>di depan mu</td>\n",
       "      <td>@YongL4dy @kopassos @idtodayco Rkyt udh paham ...</td>\n",
       "      <td>0.0</td>\n",
       "      <td>1.0</td>\n",
       "      <td>0.0</td>\n",
       "      <td>NaN</td>\n",
       "      <td>NaN</td>\n",
       "      <td>NaN</td>\n",
       "      <td>NaN</td>\n",
       "      <td>NaN</td>\n",
       "      <td>NaN</td>\n",
       "      <td>NaN</td>\n",
       "    </tr>\n",
       "    <tr>\n",
       "      <th>3</th>\n",
       "      <td>1222490925491871745</td>\n",
       "      <td>Wed Jan 29 12:05:24 +0000 2020</td>\n",
       "      <td>in</td>\n",
       "      <td>Kuala Lumpur ☁</td>\n",
       "      <td>RT @ketengahketepi: I masih tak boleh terima l...</td>\n",
       "      <td>67.0</td>\n",
       "      <td>0.0</td>\n",
       "      <td>1.0</td>\n",
       "      <td>1.222466e+18</td>\n",
       "      <td>Wed Jan 29 10:27:57 +0000 2020</td>\n",
       "      <td>in</td>\n",
       "      <td>NaN</td>\n",
       "      <td>I masih tak boleh terima la dia makan anak tik...</td>\n",
       "      <td>67.0</td>\n",
       "      <td>93.0</td>\n",
       "    </tr>\n",
       "    <tr>\n",
       "      <th>4</th>\n",
       "      <td>1222490926339149824</td>\n",
       "      <td>Wed Jan 29 12:05:24 +0000 2020</td>\n",
       "      <td>in</td>\n",
       "      <td>NaN</td>\n",
       "      <td>Disaat lagi heboh dengan virus corona, dan say...</td>\n",
       "      <td>0.0</td>\n",
       "      <td>2.0</td>\n",
       "      <td>0.0</td>\n",
       "      <td>NaN</td>\n",
       "      <td>NaN</td>\n",
       "      <td>NaN</td>\n",
       "      <td>NaN</td>\n",
       "      <td>NaN</td>\n",
       "      <td>NaN</td>\n",
       "      <td>NaN</td>\n",
       "    </tr>\n",
       "  </tbody>\n",
       "</table>\n",
       "</div>"
      ],
      "text/plain": [
       "                    id                            time lang  \\\n",
       "0  1222490921272365056  Wed Jan 29 12:05:23 +0000 2020   in   \n",
       "1  1222490921964462080  Wed Jan 29 12:05:23 +0000 2020   in   \n",
       "2  1222490923352748032  Wed Jan 29 12:05:23 +0000 2020   in   \n",
       "3  1222490925491871745  Wed Jan 29 12:05:24 +0000 2020   in   \n",
       "4  1222490926339149824  Wed Jan 29 12:05:24 +0000 2020   in   \n",
       "\n",
       "                                              loc  \\\n",
       "0                                       Dompu NTB   \n",
       "1  Kuala Lumpur, Wilayah Persekutuan Kuala Lumpur   \n",
       "2                                     di depan mu   \n",
       "3                                  Kuala Lumpur ☁   \n",
       "4                                             NaN   \n",
       "\n",
       "                                                text  ret_cnt  fav_cnt   rt  \\\n",
       "0  RT @Ab1id__Dz039: #BongkarSkandalPDIP_KPU\\n\\nK...     28.0      0.0  1.0   \n",
       "1  RT @edjunaidi: Buat apa halang pelancong China...   1782.0      0.0  1.0   \n",
       "2  @YongL4dy @kopassos @idtodayco Rkyt udh paham ...      0.0      1.0  0.0   \n",
       "3  RT @ketengahketepi: I masih tak boleh terima l...     67.0      0.0  1.0   \n",
       "4  Disaat lagi heboh dengan virus corona, dan say...      0.0      2.0  0.0   \n",
       "\n",
       "          rt_id                         rt_time rt_lang            rt_loc  \\\n",
       "0  1.222425e+18  Wed Jan 29 07:44:29 +0000 2020      in   California, USA   \n",
       "1  1.222158e+18  Tue Jan 28 14:02:09 +0000 2020      in  Kuala Lumpur, MY   \n",
       "2           NaN                             NaN     NaN               NaN   \n",
       "3  1.222466e+18  Wed Jan 29 10:27:57 +0000 2020      in               NaN   \n",
       "4           NaN                             NaN     NaN               NaN   \n",
       "\n",
       "                                             rt_text  rt_ret_cnt  rt_fav_cnt  \n",
       "0  #BongkarSkandalPDIP_KPU\\n\\nKapan Nih FERGUSO I...        28.0        43.0  \n",
       "1  Buat apa halang pelancong China dari masuk Mal...      1782.0      1610.0  \n",
       "2                                                NaN         NaN         NaN  \n",
       "3  I masih tak boleh terima la dia makan anak tik...        67.0        93.0  \n",
       "4                                                NaN         NaN         NaN  "
      ]
     },
     "execution_count": 638,
     "metadata": {},
     "output_type": "execute_result"
    }
   ],
   "source": [
    "df.head()"
   ]
  },
  {
   "cell_type": "code",
   "execution_count": 639,
   "metadata": {},
   "outputs": [
    {
     "data": {
      "text/plain": [
       "(984324, 15)"
      ]
     },
     "execution_count": 639,
     "metadata": {},
     "output_type": "execute_result"
    }
   ],
   "source": [
    "df.shape"
   ]
  },
  {
   "cell_type": "markdown",
   "metadata": {},
   "source": [
    "_Dataframe_ ini mengandung hampir satu juta baris dan 15 kolom. Untuk setiap _tweet ID_ , kami mengambil atribut-atribut ini:\n",
    "\n",
    "1. _Tweet ID_\n",
    "2. Waktu penulisan\n",
    "3. Bahasa\n",
    "4. Lokasi pengguna\n",
    "5. Teks twit\n",
    "6. Banyaknya _retweet_\n",
    "7. Banyaknya _like_\n",
    "8. _Tweet ID_ dari twit orisinal (jika ada)\n",
    "9. Waktu penulisan dari twit orisinal (jika ada)\n",
    "10. Bahasa dari twit orisinal (jika ada)\n",
    "11. Lokasi pengguna dari twit orisinal (jika ada)\n",
    "12. Teks dari twit orisinal (jika ada)\n",
    "13. Banyaknya _retweet_ dari twit orisinal (jika ada)\n",
    "14. Banyaknya _like_ dari twit orisinal (jika ada)\n",
    "\n",
    "Untuk setiap _tweet ID_ , atribut nomor 8-14 ada jika dan hanya jika twit dengan _tweet ID_ tersebut adalah sebuah _retweet_. Dari kode di atas, bisa dilihat bahwa kami hanya mengambil twit berbahasa Indonesia yang mana bahasa dari twit orisinalnya adalah bahasa Indonesia (jika ada). Walaupun pastinya terdapat twit-twit berbahasa Inggris yang ditulis oleh masyarakat Indonesia, kami memutuskan untuk menaruh fokus pada twit-twit berbahasa Indonesia demi memudahkan pemrosesan data.\n",
    "\n",
    "Satu hal minor yang perlu disampaikan adalah kolom $\\texttt{rt}$ pada _dataframe_ di atas bernilai 1 jika sebuah tweet adalah _retweet_, dan bernilai 0 jika tidak."
   ]
  },
  {
   "cell_type": "markdown",
   "metadata": {},
   "source": [
    "#### Langkah Kedua: Membuang _Retweet_\n",
    "\n",
    "Karena analisis ini berfokus pada twit orisinal, kami membuang twit-twit yang merupakan hasil _retweet_ dari twit lain. Secara konkret, untuk _tweet ID_ tanpa atribut 8-14, kami mengambil atribut 1-7 karena _tweet ID_ tersebut merujuk pada twit orisinal. Selain itu, kami mengambil atribut 8-14. Pada langkah ini, kami juga membuang banyak twit duplikat yang dihasilkan."
   ]
  },
  {
   "cell_type": "code",
   "execution_count": 641,
   "metadata": {},
   "outputs": [],
   "source": [
    "#membuang retweet\n",
    "df_left = df[df.rt == 0][['id', 'time', 'lang', 'loc', 'text', 'ret_cnt', 'fav_cnt']]\n",
    "df_right = df[df.rt == 1][['rt_id', 'rt_time', 'rt_lang', 'rt_loc', 'rt_text', 'rt_ret_cnt', 'rt_fav_cnt']]\n",
    "df_right.columns = ['id', 'time', 'lang', 'loc', 'text', 'ret_cnt', 'fav_cnt']\n",
    "df_combined = pd.concat([df_left, df_right])\n",
    "\n",
    "#membuang duplikat berdasarkan tweet ID\n",
    "df_combined = df_combined.sort_values('ret_cnt', ascending=False).drop_duplicates('id').sort_index()\n",
    "df_combined = df_combined.reset_index(drop=True)\n",
    "\n",
    "#mengubah semua teks menjadi huruf kecil\n",
    "df_combined = df_combined.applymap(lambda s: s.lower() if type(s) == str else s)"
   ]
  },
  {
   "cell_type": "code",
   "execution_count": 645,
   "metadata": {},
   "outputs": [],
   "source": [
    "#membuang duplikat berdasarkan tweet ID\n",
    "df_combined = df_combined.sort_values('ret_cnt', ascending=False).drop_duplicates('id').sort_index()\n",
    "df_combined = df_combined.reset_index(drop=True)\n",
    "\n",
    "#mengubah semua teks menjadi huruf kecil\n",
    "df_combined = df_combined.applymap(lambda s: s.lower() if type(s) == str else s)"
   ]
  },
  {
   "cell_type": "code",
   "execution_count": 646,
   "metadata": {},
   "outputs": [
    {
     "data": {
      "text/html": [
       "<div>\n",
       "<style scoped>\n",
       "    .dataframe tbody tr th:only-of-type {\n",
       "        vertical-align: middle;\n",
       "    }\n",
       "\n",
       "    .dataframe tbody tr th {\n",
       "        vertical-align: top;\n",
       "    }\n",
       "\n",
       "    .dataframe thead th {\n",
       "        text-align: right;\n",
       "    }\n",
       "</style>\n",
       "<table border=\"1\" class=\"dataframe\">\n",
       "  <thead>\n",
       "    <tr style=\"text-align: right;\">\n",
       "      <th></th>\n",
       "      <th>id</th>\n",
       "      <th>time</th>\n",
       "      <th>lang</th>\n",
       "      <th>loc</th>\n",
       "      <th>text</th>\n",
       "      <th>ret_cnt</th>\n",
       "      <th>fav_cnt</th>\n",
       "    </tr>\n",
       "  </thead>\n",
       "  <tbody>\n",
       "    <tr>\n",
       "      <th>0</th>\n",
       "      <td>1254455244995457024</td>\n",
       "      <td>sun apr 26 17:00:11 +0000 2020</td>\n",
       "      <td>in</td>\n",
       "      <td>NaN</td>\n",
       "      <td>kangen jalan² ke pantai. corona cepat pergi si...</td>\n",
       "      <td>1.0</td>\n",
       "      <td>8.0</td>\n",
       "    </tr>\n",
       "    <tr>\n",
       "      <th>1</th>\n",
       "      <td>1254455249198354434</td>\n",
       "      <td>sun apr 26 17:00:12 +0000 2020</td>\n",
       "      <td>in</td>\n",
       "      <td>NaN</td>\n",
       "      <td>@wabbasi007 @muhktiyra_ lock down sirf masajid...</td>\n",
       "      <td>0.0</td>\n",
       "      <td>0.0</td>\n",
       "    </tr>\n",
       "    <tr>\n",
       "      <th>2</th>\n",
       "      <td>1231987159793623040</td>\n",
       "      <td>mon feb 24 17:00:02 +0000 2020</td>\n",
       "      <td>in</td>\n",
       "      <td>kota batam, kepulauan riau</td>\n",
       "      <td>mereka bertaruh nyawa, ini kompensasi bagi pet...</td>\n",
       "      <td>0.0</td>\n",
       "      <td>0.0</td>\n",
       "    </tr>\n",
       "    <tr>\n",
       "      <th>3</th>\n",
       "      <td>1.243e+18</td>\n",
       "      <td>thu mar 26 02:04:54 +0000 2020</td>\n",
       "      <td>in</td>\n",
       "      <td>jakarta, indonesia</td>\n",
       "      <td>pangeran charles dinyatakan positif virus coro...</td>\n",
       "      <td>52.0</td>\n",
       "      <td>138.0</td>\n",
       "    </tr>\n",
       "    <tr>\n",
       "      <th>4</th>\n",
       "      <td>1222490923352748032</td>\n",
       "      <td>wed jan 29 12:05:23 +0000 2020</td>\n",
       "      <td>in</td>\n",
       "      <td>di depan mu</td>\n",
       "      <td>@yongl4dy @kopassos @idtodayco rkyt udh paham ...</td>\n",
       "      <td>0.0</td>\n",
       "      <td>1.0</td>\n",
       "    </tr>\n",
       "  </tbody>\n",
       "</table>\n",
       "</div>"
      ],
      "text/plain": [
       "                    id                            time lang  \\\n",
       "0  1254455244995457024  sun apr 26 17:00:11 +0000 2020   in   \n",
       "1  1254455249198354434  sun apr 26 17:00:12 +0000 2020   in   \n",
       "2  1231987159793623040  mon feb 24 17:00:02 +0000 2020   in   \n",
       "3            1.243e+18  thu mar 26 02:04:54 +0000 2020   in   \n",
       "4  1222490923352748032  wed jan 29 12:05:23 +0000 2020   in   \n",
       "\n",
       "                          loc  \\\n",
       "0                         NaN   \n",
       "1                         NaN   \n",
       "2  kota batam, kepulauan riau   \n",
       "3          jakarta, indonesia   \n",
       "4                 di depan mu   \n",
       "\n",
       "                                                text  ret_cnt  fav_cnt  \n",
       "0  kangen jalan² ke pantai. corona cepat pergi si...      1.0      8.0  \n",
       "1  @wabbasi007 @muhktiyra_ lock down sirf masajid...      0.0      0.0  \n",
       "2  mereka bertaruh nyawa, ini kompensasi bagi pet...      0.0      0.0  \n",
       "3  pangeran charles dinyatakan positif virus coro...     52.0    138.0  \n",
       "4  @yongl4dy @kopassos @idtodayco rkyt udh paham ...      0.0      1.0  "
      ]
     },
     "execution_count": 646,
     "metadata": {},
     "output_type": "execute_result"
    }
   ],
   "source": [
    "df_combined.head()"
   ]
  },
  {
   "cell_type": "code",
   "execution_count": 647,
   "metadata": {},
   "outputs": [
    {
     "data": {
      "text/plain": [
       "(399415, 7)"
      ]
     },
     "execution_count": 647,
     "metadata": {},
     "output_type": "execute_result"
    }
   ],
   "source": [
    "df_combined.shape"
   ]
  },
  {
   "cell_type": "markdown",
   "metadata": {},
   "source": [
    "Setelah membuang duplikat, sekarang _dataframe_ kami mengandung kurang lebih 400 ribu baris."
   ]
  },
  {
   "cell_type": "markdown",
   "metadata": {},
   "source": [
    "#### Langkah Ketiga: Menyaring Lokasi\n",
    "\n",
    "Kami memutuskan untuk melakukan langkah ini dikarenakan banyaknya twit berbahasa non-Indonesia yang dikategorikan sebagai twit berbahasa Indonesia (dari kolom $\\texttt{lang}$). Dengan menyaring twit-twit yang berlokasi di Indonesia (contoh: Jakarta, Madiun, East Java), twit-twit yang tersisa berpeluang besar untuk benar-benar ditulis menggunakan berbahasa Indonesia. Perlu dicatat bahwa proses ini tidaklah sempurna: terdapat banyak pengguna yang tidak menuliskan lokasi mereka atau dengan sengaja mengubah lokasi mereka. Kendati demikian, teknik penyaringan yang mudah dilakukan ini menghasilkan relatif banyak twit berbahasa Indonesia.\n",
    "\n",
    "Analisis kami menghasilkan keyword-keyword berikut, yang kami anggap sebagai lokasi-lokasi di Indonesia:"
   ]
  },
  {
   "cell_type": "code",
   "execution_count": 648,
   "metadata": {},
   "outputs": [],
   "source": [
    "keywords = ['indonesia', 'jakarta', 'java', 'jawa', 'sumatera', 'sumatra', \n",
    "            'sulawesi', 'kalimantan', 'borneo', 'papua', 'bali', 'bandung', \n",
    "            'yogyakarta', 'surabaya', '+62', 'nkri', 'malang',\n",
    "            'bekasi', 'bogor', 'aceh', 'makassar', 'semarang', 'batam',\n",
    "            'riau', 'tangerang', 'banten', 'medan', 'pekanbaru', 'lampung',\n",
    "            'depok', '🇮🇩', 'samarinda', 'surakarta', 'palembang', 'graha bnpb',\n",
    "            'polsek', 'pontianak', 'nusantara', 'pedesaan',\n",
    "            'magelang', 'jkt', 'solo', 'jogja', 'banjarmasin',\n",
    "            'kebayoran', 'purwokerto', 'jember', 'denpasar', 'jambi', 'sidoarjo',\n",
    "            'kritik kebijakan', 'bengkulu', 'cirebon', 'jabodetabek', 'bdg',\n",
    "            'sukabumi', 'cilangkap', 'inews tower', 'sleman', 'netizenpronkri',\n",
    "            'serpong', 'kertosono', 'banyuwangi', 'purworejo', 'tanjung pinang',\n",
    "            'tasikmalaya', 'menteri supeno', 'klaten', 'tunggal ika', 'mataram',\n",
    "            'batavia', 'bangka', 'palangka raya', 'gorontalo', 'bintaro', 'bantul',\n",
    "            'jateng', 'mojokerto', 'lombok', 'bukittinggi', 'padang', 'kediri',\n",
    "            'cengkareng', 'tuban', 'purwakarta', 'manado', 'salatiga', 'tegal', \n",
    "             'madiun', 'cimahi', 'pattimura', 'bojonegoro', 'milono', 'mojok', \n",
    "             'lamongan', 'probolinggo', 'pamekasan', 'pancasila', 'magetan',\n",
    "             'palangkaraya', 'cilacap', 'indramayu', 'ponorogo', 'sunda', 'bangkinang',\n",
    "             'pekalongan', 'medan merdeka', 'kebumen', 'jepara', 'jekardah', 'gresik',\n",
    "             'jayapura', 'karawang', 'banjarmasin', 'pati', 'sutami', 'parasamya',\n",
    "             'tulungagung', 'lumajang', 'pakubuwono', 'betawi', 'bantul', 'jambi',\n",
    "             'bangka', 'yogja', 'wkwkland', 'kudus', 'kominfo', 'bengkulu', 'banjarbaru',\n",
    "             'tangsel', 'jatinangor', 'wonosobo', 'jaksel', 'pematangsiantar', 'madura',\n",
    "             'sragen', 'kaltim', 'gunungkidul', 'gorontalo', 'cibubur', 'kendari',\n",
    "             'magetan', 'dpr ri', 'kulon progo', 'suroboyo', 'boyolali', 'ambon']"
   ]
  },
  {
   "cell_type": "code",
   "execution_count": 650,
   "metadata": {},
   "outputs": [],
   "source": [
    "#dataframe setelah mengaplikasikan filter lokasi\n",
    "df_filtered = df_combined[pd.notnull(df_combined['loc'])]\n",
    "df_filtered = df_filtered[df_filtered.apply(lambda r: any([kw in r['loc'] for kw in keywords]), axis=1)]"
   ]
  },
  {
   "cell_type": "code",
   "execution_count": 651,
   "metadata": {},
   "outputs": [
    {
     "data": {
      "text/html": [
       "<div>\n",
       "<style scoped>\n",
       "    .dataframe tbody tr th:only-of-type {\n",
       "        vertical-align: middle;\n",
       "    }\n",
       "\n",
       "    .dataframe tbody tr th {\n",
       "        vertical-align: top;\n",
       "    }\n",
       "\n",
       "    .dataframe thead th {\n",
       "        text-align: right;\n",
       "    }\n",
       "</style>\n",
       "<table border=\"1\" class=\"dataframe\">\n",
       "  <thead>\n",
       "    <tr style=\"text-align: right;\">\n",
       "      <th></th>\n",
       "      <th>id</th>\n",
       "      <th>time</th>\n",
       "      <th>lang</th>\n",
       "      <th>loc</th>\n",
       "      <th>text</th>\n",
       "      <th>ret_cnt</th>\n",
       "      <th>fav_cnt</th>\n",
       "    </tr>\n",
       "  </thead>\n",
       "  <tbody>\n",
       "    <tr>\n",
       "      <th>2</th>\n",
       "      <td>1231987159793623040</td>\n",
       "      <td>mon feb 24 17:00:02 +0000 2020</td>\n",
       "      <td>in</td>\n",
       "      <td>kota batam, kepulauan riau</td>\n",
       "      <td>mereka bertaruh nyawa, ini kompensasi bagi pet...</td>\n",
       "      <td>0.0</td>\n",
       "      <td>0.0</td>\n",
       "    </tr>\n",
       "    <tr>\n",
       "      <th>3</th>\n",
       "      <td>1.243e+18</td>\n",
       "      <td>thu mar 26 02:04:54 +0000 2020</td>\n",
       "      <td>in</td>\n",
       "      <td>jakarta, indonesia</td>\n",
       "      <td>pangeran charles dinyatakan positif virus coro...</td>\n",
       "      <td>52.0</td>\n",
       "      <td>138.0</td>\n",
       "    </tr>\n",
       "    <tr>\n",
       "      <th>7</th>\n",
       "      <td>1242997564183465984</td>\n",
       "      <td>thu mar 26 02:11:27 +0000 2020</td>\n",
       "      <td>in</td>\n",
       "      <td>jawa timur, indonesia</td>\n",
       "      <td>@dewirahmat_ ketika corona sudah reda, dan kit...</td>\n",
       "      <td>0.0</td>\n",
       "      <td>1.0</td>\n",
       "    </tr>\n",
       "    <tr>\n",
       "      <th>9</th>\n",
       "      <td>1231987167523557381</td>\n",
       "      <td>mon feb 24 17:00:04 +0000 2020</td>\n",
       "      <td>in</td>\n",
       "      <td>jatiuwung, tangerang</td>\n",
       "      <td>@hestiaaapri iya ni ada kandungan virus corona:(</td>\n",
       "      <td>0.0</td>\n",
       "      <td>0.0</td>\n",
       "    </tr>\n",
       "    <tr>\n",
       "      <th>13</th>\n",
       "      <td>1254455270316494848</td>\n",
       "      <td>sun apr 26 17:00:17 +0000 2020</td>\n",
       "      <td>in</td>\n",
       "      <td>indonesia</td>\n",
       "      <td>@imeldaveroo @imeldaveroo lagi rapuh karna ken...</td>\n",
       "      <td>0.0</td>\n",
       "      <td>0.0</td>\n",
       "    </tr>\n",
       "  </tbody>\n",
       "</table>\n",
       "</div>"
      ],
      "text/plain": [
       "                     id                            time lang  \\\n",
       "2   1231987159793623040  mon feb 24 17:00:02 +0000 2020   in   \n",
       "3             1.243e+18  thu mar 26 02:04:54 +0000 2020   in   \n",
       "7   1242997564183465984  thu mar 26 02:11:27 +0000 2020   in   \n",
       "9   1231987167523557381  mon feb 24 17:00:04 +0000 2020   in   \n",
       "13  1254455270316494848  sun apr 26 17:00:17 +0000 2020   in   \n",
       "\n",
       "                           loc  \\\n",
       "2   kota batam, kepulauan riau   \n",
       "3           jakarta, indonesia   \n",
       "7        jawa timur, indonesia   \n",
       "9         jatiuwung, tangerang   \n",
       "13                   indonesia   \n",
       "\n",
       "                                                 text  ret_cnt  fav_cnt  \n",
       "2   mereka bertaruh nyawa, ini kompensasi bagi pet...      0.0      0.0  \n",
       "3   pangeran charles dinyatakan positif virus coro...     52.0    138.0  \n",
       "7   @dewirahmat_ ketika corona sudah reda, dan kit...      0.0      1.0  \n",
       "9    @hestiaaapri iya ni ada kandungan virus corona:(      0.0      0.0  \n",
       "13  @imeldaveroo @imeldaveroo lagi rapuh karna ken...      0.0      0.0  "
      ]
     },
     "execution_count": 651,
     "metadata": {},
     "output_type": "execute_result"
    }
   ],
   "source": [
    "df_filtered.head()"
   ]
  },
  {
   "cell_type": "code",
   "execution_count": 652,
   "metadata": {},
   "outputs": [
    {
     "data": {
      "text/plain": [
       "(149677, 7)"
      ]
     },
     "execution_count": 652,
     "metadata": {},
     "output_type": "execute_result"
    }
   ],
   "source": [
    "df_filtered.shape"
   ]
  },
  {
   "cell_type": "markdown",
   "metadata": {},
   "source": [
    "_Dataframe_ kami sekarang mengandung kurang lebih 150 ribu baris. Pemrosesan data siap untuk dilakukan!"
   ]
  },
  {
   "cell_type": "markdown",
   "metadata": {},
   "source": [
    "### Pemrosesan Data\n",
    "\n",
    "Kami melakukan teknik pemrosesan data standar yang meliputi:\n",
    "\n",
    "1. Pembuangan tautan pada teks\n",
    "2. Lematisasi teks menggunakan $\\textit{package}$ $\\texttt{Sastrawi}$ yang didesain khusus untuk teks berbahasa Indonesia (https://pypi.org/project/Sastrawi/)\n",
    "3. Tokenisasi teks menggunakan $\\texttt{TweetTokenizer}$ dari $\\textit{package}$ $\\texttt{NLTK}$\n",
    "4. Pembuangan _stopword_\n",
    "\n",
    "Kami juga mengumpulkan _hashtag-hashtag_ yang disebut dalam teks, yang nantinya akan dianalisis kemudian."
   ]
  },
  {
   "cell_type": "code",
   "execution_count": 653,
   "metadata": {},
   "outputs": [],
   "source": [
    "#mendapatkan hashtag\n",
    "def get_hashtags(text):\n",
    "    list_of_hashtags = []\n",
    "    temp = text.split()\n",
    "    for word in temp:\n",
    "        if word[0] == '#':\n",
    "            list_of_hashtags.append(word)\n",
    "    return list_of_hashtags\n",
    "\n",
    "#stopwords\n",
    "stop = open(\"stop.txt\", \"r\")\n",
    "stopwords = stop.read().splitlines()\n",
    "stopwords += StopWordRemoverFactory().get_stop_words()\n",
    "\n",
    "#stemmer\n",
    "factory = StemmerFactory()\n",
    "stemmer = factory.create_stemmer()\n",
    "\n",
    "#tokenizer\n",
    "tknzr = nltk.tokenize.TweetTokenizer()\n",
    "\n",
    "def stemmed(text):\n",
    "    #pembuangan tautan\n",
    "    text = re.sub(r'''(?i)\\b((?:https?://|www\\d{0,3}[.]|[a-z0-9.\\-]+[.][a-z]{2,4}/)(?:[^\\s()<>]+|\\(([^\\s()<>]+|(\\([^\\s()<>]+\\)))*\\))+(?:\\(([^\\s()<>]+|(\\([^\\s()<>]+\\)))*\\)|[^\\s`!()\\[\\]{};:'\".,<>?«»“”‘’]))''', \"\", text)\n",
    "    #lematisasi\n",
    "    text = stemmer.stem(text)\n",
    "    #tokenisasi\n",
    "    text = tknzr.tokenize(text)\n",
    "    #pembuangan stopword\n",
    "    text = [x for x in text if x not in stopwords]\n",
    "    return text    "
   ]
  },
  {
   "cell_type": "code",
   "execution_count": 654,
   "metadata": {},
   "outputs": [],
   "source": [
    "texts = list(df_filtered['text'])\n",
    "df_filtered['hashtags'] = [get_hashtags(text) for text in texts]\n",
    "df_filtered['stemmed'] = [stemmed(text) for text in texts]\n",
    "\n",
    "#pembuangan duplikat\n",
    "df_filtered = df_filtered.drop_duplicates(['time', 'text']).shape"
   ]
  },
  {
   "cell_type": "code",
   "execution_count": 738,
   "metadata": {},
   "outputs": [
    {
     "data": {
      "text/html": [
       "<div>\n",
       "<style scoped>\n",
       "    .dataframe tbody tr th:only-of-type {\n",
       "        vertical-align: middle;\n",
       "    }\n",
       "\n",
       "    .dataframe tbody tr th {\n",
       "        vertical-align: top;\n",
       "    }\n",
       "\n",
       "    .dataframe thead th {\n",
       "        text-align: right;\n",
       "    }\n",
       "</style>\n",
       "<table border=\"1\" class=\"dataframe\">\n",
       "  <thead>\n",
       "    <tr style=\"text-align: right;\">\n",
       "      <th></th>\n",
       "      <th>id</th>\n",
       "      <th>time</th>\n",
       "      <th>text</th>\n",
       "      <th>ret_cnt</th>\n",
       "      <th>fav_cnt</th>\n",
       "      <th>hashtags</th>\n",
       "      <th>stemmed</th>\n",
       "    </tr>\n",
       "  </thead>\n",
       "  <tbody>\n",
       "    <tr>\n",
       "      <th>0</th>\n",
       "      <td>1.233770e+18</td>\n",
       "      <td>sat feb 29 15:05:13 +0000 2020</td>\n",
       "      <td>3 pemain tertular virus corona, klub liga ital...</td>\n",
       "      <td>6.0</td>\n",
       "      <td>7.0</td>\n",
       "      <td>[]</td>\n",
       "      <td>[3, main, tular, virus, corona, klub, liga, it...</td>\n",
       "    </tr>\n",
       "    <tr>\n",
       "      <th>1</th>\n",
       "      <td>1.254743e+18</td>\n",
       "      <td>mon apr 27 12:04:03 +0000 2020</td>\n",
       "      <td>angka virus corona covid-19 diprediksi terus t...</td>\n",
       "      <td>7.0</td>\n",
       "      <td>22.0</td>\n",
       "      <td>[]</td>\n",
       "      <td>[angka, virus, corona, covid, -, 19, prediksi,...</td>\n",
       "    </tr>\n",
       "    <tr>\n",
       "      <th>2</th>\n",
       "      <td>1.231166e+18</td>\n",
       "      <td>sat feb 22 10:38:22 +0000 2020</td>\n",
       "      <td>tunda pernikahan demi rawat pasien, dokter mud...</td>\n",
       "      <td>4.0</td>\n",
       "      <td>28.0</td>\n",
       "      <td>[]</td>\n",
       "      <td>[tunda, nikah, rawat, pasien, dokter, muda, te...</td>\n",
       "    </tr>\n",
       "    <tr>\n",
       "      <th>3</th>\n",
       "      <td>1.231168e+18</td>\n",
       "      <td>sat feb 22 10:45:03 +0000 2020</td>\n",
       "      <td>tunda pernikahan demi rawat pasien, dokter mud...</td>\n",
       "      <td>1.0</td>\n",
       "      <td>7.0</td>\n",
       "      <td>[]</td>\n",
       "      <td>[tunda, nikah, rawat, pasien, dokter, muda, te...</td>\n",
       "    </tr>\n",
       "    <tr>\n",
       "      <th>4</th>\n",
       "      <td>1.254368e+18</td>\n",
       "      <td>sun apr 26 11:14:02 +0000 2020</td>\n",
       "      <td>pakar hukum: omnibus law ciptaker bisa jadi so...</td>\n",
       "      <td>1.0</td>\n",
       "      <td>3.0</td>\n",
       "      <td>[]</td>\n",
       "      <td>[pakar, hukum, omnibus, law, ciptaker, solusi,...</td>\n",
       "    </tr>\n",
       "  </tbody>\n",
       "</table>\n",
       "</div>"
      ],
      "text/plain": [
       "             id                            time  \\\n",
       "0  1.233770e+18  sat feb 29 15:05:13 +0000 2020   \n",
       "1  1.254743e+18  mon apr 27 12:04:03 +0000 2020   \n",
       "2  1.231166e+18  sat feb 22 10:38:22 +0000 2020   \n",
       "3  1.231168e+18  sat feb 22 10:45:03 +0000 2020   \n",
       "4  1.254368e+18  sun apr 26 11:14:02 +0000 2020   \n",
       "\n",
       "                                                text  ret_cnt  fav_cnt  \\\n",
       "0  3 pemain tertular virus corona, klub liga ital...      6.0      7.0   \n",
       "1  angka virus corona covid-19 diprediksi terus t...      7.0     22.0   \n",
       "2  tunda pernikahan demi rawat pasien, dokter mud...      4.0     28.0   \n",
       "3  tunda pernikahan demi rawat pasien, dokter mud...      1.0      7.0   \n",
       "4  pakar hukum: omnibus law ciptaker bisa jadi so...      1.0      3.0   \n",
       "\n",
       "  hashtags                                            stemmed  \n",
       "0       []  [3, main, tular, virus, corona, klub, liga, it...  \n",
       "1       []  [angka, virus, corona, covid, -, 19, prediksi,...  \n",
       "2       []  [tunda, nikah, rawat, pasien, dokter, muda, te...  \n",
       "3       []  [tunda, nikah, rawat, pasien, dokter, muda, te...  \n",
       "4       []  [pakar, hukum, omnibus, law, ciptaker, solusi,...  "
      ]
     },
     "execution_count": 738,
     "metadata": {},
     "output_type": "execute_result"
    }
   ],
   "source": [
    "df_filtered.head()"
   ]
  },
  {
   "cell_type": "code",
   "execution_count": 692,
   "metadata": {},
   "outputs": [
    {
     "data": {
      "text/plain": [
       "(146642, 7)"
      ]
     },
     "execution_count": 692,
     "metadata": {},
     "output_type": "execute_result"
    }
   ],
   "source": [
    "df_filtered.shape"
   ]
  },
  {
   "cell_type": "markdown",
   "metadata": {},
   "source": [
    "Setelah proses ini, kami menyadari bahwa banyak stopword yang tidak terbuang karena ditulis dalam bentuk singkat (contoh: yg, dgn, kpn). Selain itu, terdapat beberapa stopword berbahasa Inggris yang sering digunakan orang Indonesia (contoh: what, lol), serta kata-kata tidak baku yang sering digunakan (contoh: himbau, nafas). Untuk mengatasi hal ini, kami mengambil kata-kata yang dengan frekuensi kemunculan terbanyak (paling sedikit 100 kali), dan melakukan pemetaan secara manual untuk membersihkan korpus kami. Kami juga membuang angka, kata-kata dengan kurang dari dua karakter, serta kata-kata yang muncul lebih dari 20000 kali. Dalam melakukan pemodelan topik nantinya, kami hanya menggunakan kata-kata yang telah melalui proses pemetaan."
   ]
  },
  {
   "cell_type": "code",
   "execution_count": 49,
   "metadata": {},
   "outputs": [
    {
     "data": {
      "text/plain": [
       "100344"
      ]
     },
     "execution_count": 49,
     "metadata": {},
     "output_type": "execute_result"
    }
   ],
   "source": [
    "all_words = [word for item in list(df_filtered['stemmed']) for word in item]\n",
    "\n",
    "#distribusi frekuensi dari kata-kata\n",
    "fdist = nltk.FreqDist(all_words)\n",
    "\n",
    "#banyaknya kata unik\n",
    "len(fdist)"
   ]
  },
  {
   "cell_type": "code",
   "execution_count": 50,
   "metadata": {},
   "outputs": [],
   "source": [
    "#mengubah distribusi frekuensi ke dalam dataframe\n",
    "fdist = pd.DataFrame.from_dict(fdist, orient='index').reset_index()\n",
    "fdist.columns = ['word', 'freq']\n",
    "fdist = fdist.sort_values('freq', ascending=False)"
   ]
  },
  {
   "cell_type": "code",
   "execution_count": 51,
   "metadata": {
    "scrolled": false
   },
   "outputs": [],
   "source": [
    "#membuang kata dengan <= 1 karakter\n",
    "fdist = fdist[fdist.apply(lambda r: len(r['word']) > 1, axis=1)]\n",
    "\n",
    "#membuang angka\n",
    "fdist = fdist[fdist.apply(lambda r: r['word'].isdigit() == False, axis=1)]\n",
    "\n",
    "#memilih kata yang muncul >= 100 kali dan <= 20000 kali\n",
    "fdist = fdist[(fdist.freq >= 100) & (fdist.freq <= 20000)]"
   ]
  },
  {
   "cell_type": "code",
   "execution_count": 724,
   "metadata": {},
   "outputs": [
    {
     "data": {
      "text/html": [
       "<div>\n",
       "<style scoped>\n",
       "    .dataframe tbody tr th:only-of-type {\n",
       "        vertical-align: middle;\n",
       "    }\n",
       "\n",
       "    .dataframe tbody tr th {\n",
       "        vertical-align: top;\n",
       "    }\n",
       "\n",
       "    .dataframe thead th {\n",
       "        text-align: right;\n",
       "    }\n",
       "</style>\n",
       "<table border=\"1\" class=\"dataframe\">\n",
       "  <thead>\n",
       "    <tr style=\"text-align: right;\">\n",
       "      <th></th>\n",
       "      <th>word</th>\n",
       "      <th>freq</th>\n",
       "    </tr>\n",
       "  </thead>\n",
       "  <tbody>\n",
       "    <tr>\n",
       "      <th>179</th>\n",
       "      <td>orang</td>\n",
       "      <td>12949</td>\n",
       "    </tr>\n",
       "    <tr>\n",
       "      <th>17</th>\n",
       "      <td>indonesia</td>\n",
       "      <td>12571</td>\n",
       "    </tr>\n",
       "    <tr>\n",
       "      <th>103</th>\n",
       "      <td>perintah</td>\n",
       "      <td>9558</td>\n",
       "    </tr>\n",
       "    <tr>\n",
       "      <th>186</th>\n",
       "      <td>sebar</td>\n",
       "      <td>9121</td>\n",
       "    </tr>\n",
       "    <tr>\n",
       "      <th>119</th>\n",
       "      <td>pandemi</td>\n",
       "      <td>8920</td>\n",
       "    </tr>\n",
       "  </tbody>\n",
       "</table>\n",
       "</div>"
      ],
      "text/plain": [
       "          word   freq\n",
       "179      orang  12949\n",
       "17   indonesia  12571\n",
       "103   perintah   9558\n",
       "186      sebar   9121\n",
       "119    pandemi   8920"
      ]
     },
     "execution_count": 724,
     "metadata": {},
     "output_type": "execute_result"
    }
   ],
   "source": [
    "fdist.head()"
   ]
  },
  {
   "cell_type": "markdown",
   "metadata": {},
   "source": [
    "Menggunakan kata-kata di atas, kami melakukan pemetaan secara manual dan hasilnya kami simpan dalam $\\texttt{fdist.csv}$."
   ]
  },
  {
   "cell_type": "code",
   "execution_count": 2,
   "metadata": {},
   "outputs": [
    {
     "data": {
      "text/html": [
       "<div>\n",
       "<style scoped>\n",
       "    .dataframe tbody tr th:only-of-type {\n",
       "        vertical-align: middle;\n",
       "    }\n",
       "\n",
       "    .dataframe tbody tr th {\n",
       "        vertical-align: top;\n",
       "    }\n",
       "\n",
       "    .dataframe thead th {\n",
       "        text-align: right;\n",
       "    }\n",
       "</style>\n",
       "<table border=\"1\" class=\"dataframe\">\n",
       "  <thead>\n",
       "    <tr style=\"text-align: right;\">\n",
       "      <th></th>\n",
       "      <th>word</th>\n",
       "      <th>freq</th>\n",
       "      <th>map</th>\n",
       "    </tr>\n",
       "  </thead>\n",
       "  <tbody>\n",
       "    <tr>\n",
       "      <th>0</th>\n",
       "      <td>orang</td>\n",
       "      <td>12949</td>\n",
       "      <td>NaN</td>\n",
       "    </tr>\n",
       "    <tr>\n",
       "      <th>1</th>\n",
       "      <td>indonesia</td>\n",
       "      <td>12571</td>\n",
       "      <td>NaN</td>\n",
       "    </tr>\n",
       "    <tr>\n",
       "      <th>2</th>\n",
       "      <td>perintah</td>\n",
       "      <td>9558</td>\n",
       "      <td>NaN</td>\n",
       "    </tr>\n",
       "    <tr>\n",
       "      <th>3</th>\n",
       "      <td>sebar</td>\n",
       "      <td>9121</td>\n",
       "      <td>NaN</td>\n",
       "    </tr>\n",
       "    <tr>\n",
       "      <th>4</th>\n",
       "      <td>pandemi</td>\n",
       "      <td>8920</td>\n",
       "      <td>NaN</td>\n",
       "    </tr>\n",
       "    <tr>\n",
       "      <th>5</th>\n",
       "      <td>lockdown</td>\n",
       "      <td>8807</td>\n",
       "      <td>NaN</td>\n",
       "    </tr>\n",
       "    <tr>\n",
       "      <th>6</th>\n",
       "      <td>positif</td>\n",
       "      <td>8542</td>\n",
       "      <td>NaN</td>\n",
       "    </tr>\n",
       "    <tr>\n",
       "      <th>7</th>\n",
       "      <td>rumah</td>\n",
       "      <td>8359</td>\n",
       "      <td>NaN</td>\n",
       "    </tr>\n",
       "    <tr>\n",
       "      <th>8</th>\n",
       "      <td>china</td>\n",
       "      <td>7517</td>\n",
       "      <td>cina</td>\n",
       "    </tr>\n",
       "    <tr>\n",
       "      <th>9</th>\n",
       "      <td>aja</td>\n",
       "      <td>7506</td>\n",
       "      <td>no</td>\n",
       "    </tr>\n",
       "  </tbody>\n",
       "</table>\n",
       "</div>"
      ],
      "text/plain": [
       "        word   freq   map\n",
       "0      orang  12949   NaN\n",
       "1  indonesia  12571   NaN\n",
       "2   perintah   9558   NaN\n",
       "3      sebar   9121   NaN\n",
       "4    pandemi   8920   NaN\n",
       "5   lockdown   8807   NaN\n",
       "6    positif   8542   NaN\n",
       "7      rumah   8359   NaN\n",
       "8      china   7517  cina\n",
       "9        aja   7506    no"
      ]
     },
     "execution_count": 2,
     "metadata": {},
     "output_type": "execute_result"
    }
   ],
   "source": [
    "fdist = pd.read_csv('fdist.csv').iloc[:,1:]\n",
    "fdist.head(10)"
   ]
  },
  {
   "cell_type": "markdown",
   "metadata": {},
   "source": [
    "Pemetaan dilakukan dengan mengikuti aturan sederhana sebagai berikut:\n",
    "\n",
    "1. Kata tidak baku -> kata baku\n",
    "2. Stopword dan kata tanpa arti -> no\n",
    "\n",
    "Selanjutnya, sebuah kolom baru bernama $\\texttt{cleaned}$ dibuat untuk merefleksikan pemetaan tersebut."
   ]
  },
  {
   "cell_type": "code",
   "execution_count": 740,
   "metadata": {},
   "outputs": [],
   "source": [
    "#dictionary untuk mengumpulkan aturan pemetaan\n",
    "dict_word = {}\n",
    "for i in range(len(fdist)):\n",
    "    temp = fdist.iloc[i]\n",
    "    word = temp['word']\n",
    "    map_ = temp['map']\n",
    "    if type(map_) != str:\n",
    "        dict_word[word] = word\n",
    "    elif map_ != 'no':\n",
    "        dict_word[word] = map_\n",
    "\n",
    "#pemetaan\n",
    "df_filtered['cleaned'] = df_filtered.apply(lambda row: [dict_word[x] for x in \n",
    "                                                        row.stemmed if x in dict_word.keys() ], axis=1)\n",
    "#penghapusan stopword (untuk memastikan tidak ada stopword yang tersisa)\n",
    "df_filtered['cleaned'] = df_filtered.apply(lambda row: [x for x in row.cleaned if x not in stopwords], axis=1)"
   ]
  },
  {
   "cell_type": "markdown",
   "metadata": {},
   "source": [
    "_Word cloud_ di bawah ini menunjukkan kata-kata yang paling sering muncul dari twit-twit yang sudah dibersihkan."
   ]
  },
  {
   "cell_type": "code",
   "execution_count": 76,
   "metadata": {},
   "outputs": [
    {
     "data": {
      "image/png": "[encoded data removed]",
      "text/plain": [
       "<PIL.PngImagePlugin.PngImageFile image mode=RGB size=512x512 at 0x13C17BF60>"
      ]
     },
     "execution_count": 76,
     "metadata": {},
     "output_type": "execute_result"
    }
   ],
   "source": [
    "df_filtered['cleaned_text'] = df_filtered['cleaned'].apply(lambda x: ' '.join(x))\n",
    "long_string = ','.join(list(df_filtered['cleaned_text'].values))\n",
    "stylecloud.gen_stylecloud(text=long_string, icon_name='fab fa-twitter', max_words=200, palette='cmocean.sequential.Phase_11', output_name='twitter-all-words.png')\n",
    "Image.open('twitter-all-words.png')"
   ]
  },
  {
   "cell_type": "markdown",
   "metadata": {},
   "source": [
    "Untuk memudahkan analisis, kami juga menambahkan kolom $\\texttt{month}$ yang merujuk kepada bulan ditulisnya sebuah twit."
   ]
  },
  {
   "cell_type": "code",
   "execution_count": 742,
   "metadata": {},
   "outputs": [],
   "source": [
    "def month(time):\n",
    "    return time.split(' ')[1]\n",
    "    \n",
    "df_filtered['month'] = df_filtered.apply(lambda r: month(r['time']), axis=1)"
   ]
  },
  {
   "cell_type": "code",
   "execution_count": 743,
   "metadata": {},
   "outputs": [
    {
     "data": {
      "text/html": [
       "<div>\n",
       "<style scoped>\n",
       "    .dataframe tbody tr th:only-of-type {\n",
       "        vertical-align: middle;\n",
       "    }\n",
       "\n",
       "    .dataframe tbody tr th {\n",
       "        vertical-align: top;\n",
       "    }\n",
       "\n",
       "    .dataframe thead th {\n",
       "        text-align: right;\n",
       "    }\n",
       "</style>\n",
       "<table border=\"1\" class=\"dataframe\">\n",
       "  <thead>\n",
       "    <tr style=\"text-align: right;\">\n",
       "      <th></th>\n",
       "      <th>id</th>\n",
       "      <th>time</th>\n",
       "      <th>text</th>\n",
       "      <th>ret_cnt</th>\n",
       "      <th>fav_cnt</th>\n",
       "      <th>hashtags</th>\n",
       "      <th>stemmed</th>\n",
       "      <th>cleaned</th>\n",
       "      <th>month</th>\n",
       "    </tr>\n",
       "  </thead>\n",
       "  <tbody>\n",
       "    <tr>\n",
       "      <th>0</th>\n",
       "      <td>1.233770e+18</td>\n",
       "      <td>sat feb 29 15:05:13 +0000 2020</td>\n",
       "      <td>3 pemain tertular virus corona, klub liga ital...</td>\n",
       "      <td>6.0</td>\n",
       "      <td>7.0</td>\n",
       "      <td>[]</td>\n",
       "      <td>[3, main, tular, virus, corona, klub, liga, it...</td>\n",
       "      <td>[main, tular, liga, italia, masuk, karantina]</td>\n",
       "      <td>feb</td>\n",
       "    </tr>\n",
       "    <tr>\n",
       "      <th>1</th>\n",
       "      <td>1.254743e+18</td>\n",
       "      <td>mon apr 27 12:04:03 +0000 2020</td>\n",
       "      <td>angka virus corona covid-19 diprediksi terus t...</td>\n",
       "      <td>7.0</td>\n",
       "      <td>22.0</td>\n",
       "      <td>[]</td>\n",
       "      <td>[angka, virus, corona, covid, -, 19, prediksi,...</td>\n",
       "      <td>[angka, prediksi, turun, rakyat, indonesia, ha...</td>\n",
       "      <td>apr</td>\n",
       "    </tr>\n",
       "    <tr>\n",
       "      <th>2</th>\n",
       "      <td>1.231166e+18</td>\n",
       "      <td>sat feb 22 10:38:22 +0000 2020</td>\n",
       "      <td>tunda pernikahan demi rawat pasien, dokter mud...</td>\n",
       "      <td>4.0</td>\n",
       "      <td>28.0</td>\n",
       "      <td>[]</td>\n",
       "      <td>[tunda, nikah, rawat, pasien, dokter, muda, te...</td>\n",
       "      <td>[tunda, nikah, rawat, pasien, dokter, muda, te...</td>\n",
       "      <td>feb</td>\n",
       "    </tr>\n",
       "    <tr>\n",
       "      <th>3</th>\n",
       "      <td>1.231168e+18</td>\n",
       "      <td>sat feb 22 10:45:03 +0000 2020</td>\n",
       "      <td>tunda pernikahan demi rawat pasien, dokter mud...</td>\n",
       "      <td>1.0</td>\n",
       "      <td>7.0</td>\n",
       "      <td>[]</td>\n",
       "      <td>[tunda, nikah, rawat, pasien, dokter, muda, te...</td>\n",
       "      <td>[tunda, nikah, rawat, pasien, dokter, muda, te...</td>\n",
       "      <td>feb</td>\n",
       "    </tr>\n",
       "    <tr>\n",
       "      <th>4</th>\n",
       "      <td>1.254368e+18</td>\n",
       "      <td>sun apr 26 11:14:02 +0000 2020</td>\n",
       "      <td>pakar hukum: omnibus law ciptaker bisa jadi so...</td>\n",
       "      <td>1.0</td>\n",
       "      <td>3.0</td>\n",
       "      <td>[]</td>\n",
       "      <td>[pakar, hukum, omnibus, law, ciptaker, solusi,...</td>\n",
       "      <td>[pakar, hukum, omnibus, law, solusi]</td>\n",
       "      <td>apr</td>\n",
       "    </tr>\n",
       "  </tbody>\n",
       "</table>\n",
       "</div>"
      ],
      "text/plain": [
       "             id                            time  \\\n",
       "0  1.233770e+18  sat feb 29 15:05:13 +0000 2020   \n",
       "1  1.254743e+18  mon apr 27 12:04:03 +0000 2020   \n",
       "2  1.231166e+18  sat feb 22 10:38:22 +0000 2020   \n",
       "3  1.231168e+18  sat feb 22 10:45:03 +0000 2020   \n",
       "4  1.254368e+18  sun apr 26 11:14:02 +0000 2020   \n",
       "\n",
       "                                                text  ret_cnt  fav_cnt  \\\n",
       "0  3 pemain tertular virus corona, klub liga ital...      6.0      7.0   \n",
       "1  angka virus corona covid-19 diprediksi terus t...      7.0     22.0   \n",
       "2  tunda pernikahan demi rawat pasien, dokter mud...      4.0     28.0   \n",
       "3  tunda pernikahan demi rawat pasien, dokter mud...      1.0      7.0   \n",
       "4  pakar hukum: omnibus law ciptaker bisa jadi so...      1.0      3.0   \n",
       "\n",
       "  hashtags                                            stemmed  \\\n",
       "0       []  [3, main, tular, virus, corona, klub, liga, it...   \n",
       "1       []  [angka, virus, corona, covid, -, 19, prediksi,...   \n",
       "2       []  [tunda, nikah, rawat, pasien, dokter, muda, te...   \n",
       "3       []  [tunda, nikah, rawat, pasien, dokter, muda, te...   \n",
       "4       []  [pakar, hukum, omnibus, law, ciptaker, solusi,...   \n",
       "\n",
       "                                             cleaned month  \n",
       "0      [main, tular, liga, italia, masuk, karantina]   feb  \n",
       "1  [angka, prediksi, turun, rakyat, indonesia, ha...   apr  \n",
       "2  [tunda, nikah, rawat, pasien, dokter, muda, te...   feb  \n",
       "3  [tunda, nikah, rawat, pasien, dokter, muda, te...   feb  \n",
       "4               [pakar, hukum, omnibus, law, solusi]   apr  "
      ]
     },
     "execution_count": 743,
     "metadata": {},
     "output_type": "execute_result"
    }
   ],
   "source": [
    "df_filtered.head()"
   ]
  },
  {
   "cell_type": "markdown",
   "metadata": {},
   "source": [
    "Sekarang, kita siap untuk melakukan pemodelan topik!"
   ]
  },
  {
   "cell_type": "markdown",
   "metadata": {},
   "source": [
    "### Pemodelan Topik\n",
    "\n",
    "Mari kita menganalisis beberapa hal dasar terkait teks-teks yang akan dianalisis."
   ]
  },
  {
   "cell_type": "code",
   "execution_count": 4,
   "metadata": {},
   "outputs": [
    {
     "name": "stdout",
     "output_type": "stream",
     "text": [
      "Banyaknya kata unik:  1873\n"
     ]
    }
   ],
   "source": [
    "all_words = [word for item in list(df_filtered['cleaned']) for word in item]\n",
    "\n",
    "#distribusi frekuensi kata-kata\n",
    "fdist = nltk.FreqDist(all_words)\n",
    "print('Banyaknya kata unik: ',len(fdist))"
   ]
  },
  {
   "cell_type": "markdown",
   "metadata": {},
   "source": [
    "Kode di atas menunjukkan bahwa sekarang terdapat 1.873 kata unik. Sekarang, kita akan menghitung distribusi banyaknya kata per teks."
   ]
  },
  {
   "cell_type": "code",
   "execution_count": 11,
   "metadata": {},
   "outputs": [
    {
     "name": "stdout",
     "output_type": "stream",
     "text": [
      "Rata-rata panjang teks:  7.153550824456841\n",
      "Modus panjang teks:  4\n",
      "Banyaknya teks dengan panjang 0:  5963\n",
      "Banyaknya teks dengan panjang 1:  10301\n"
     ]
    },
    {
     "data": {
      "image/png": "[encoded data removed]",
      "text/plain": [
       "<Figure size 432x288 with 1 Axes>"
      ]
     },
     "metadata": {
      "needs_background": "light"
     },
     "output_type": "display_data"
    }
   ],
   "source": [
    "length = [len(x) for x in df_filtered['cleaned']]\n",
    "plt.hist(length, color='#0093AF');\n",
    "plt.xlabel('Panjang teks')\n",
    "plt.ylabel('Banyak teks')\n",
    "print('Rata-rata panjang teks: ', np.mean(length))\n",
    "print('Modus panjang teks: ', np.argmax(np.bincount(length)))\n",
    "print('Banyaknya teks dengan panjang 0: ', length.count(0))\n",
    "print('Banyaknya teks dengan panjang 1: ', length.count(1))"
   ]
  },
  {
   "cell_type": "markdown",
   "metadata": {},
   "source": [
    "Dari sini bisa dilihat bahwa teks-teks yang akan kita analisis sangat pendek. Terdapat banyak pula twit di mana semua kata-kata penyusunnya (atau semua kecuali satu) tidak ada dalam kelompok kata-kata yang sudah kami petakan. Contoh twit yang demikian adalah \"kita memang siap\": ketiga kata penyusun twit ini masuk dalam _list_ _stopword_ (kata-kata yang tidak memiliki nilai semantik dalam penyusunan topik), sehingga setelah dibersihkan twit ini mengandung 0 kata. Untuk analisis selanjutnya, kami memutuskan untuk membuang teks-teks demikian."
   ]
  },
  {
   "cell_type": "code",
   "execution_count": 6,
   "metadata": {},
   "outputs": [
    {
     "data": {
      "text/plain": [
       "(130378, 9)"
      ]
     },
     "execution_count": 6,
     "metadata": {},
     "output_type": "execute_result"
    }
   ],
   "source": [
    "df_filtered = df_filtered[df_filtered.apply(lambda r: len(r['cleaned']) >= 2, axis=1)]\n",
    "df_filtered.shape"
   ]
  },
  {
   "cell_type": "markdown",
   "metadata": {},
   "source": [
    "Mari kita menggambar histogram baru setelah penyaringan di atas."
   ]
  },
  {
   "cell_type": "code",
   "execution_count": 7,
   "metadata": {},
   "outputs": [
    {
     "name": "stdout",
     "output_type": "stream",
     "text": [
      "Rata-rata panjang teks:  7.96691159551458\n"
     ]
    },
    {
     "data": {
      "image/png": "[encoded data removed]",
      "text/plain": [
       "<Figure size 432x288 with 1 Axes>"
      ]
     },
     "metadata": {
      "needs_background": "light"
     },
     "output_type": "display_data"
    }
   ],
   "source": [
    "length = [len(x) for x in df_filtered['cleaned']]\n",
    "plt.hist(length, color='#0093AF');\n",
    "plt.xlabel('Panjang teks')\n",
    "plt.ylabel('Banyak teks')\n",
    "print('Rata-rata panjang teks: ', np.mean(length))"
   ]
  },
  {
   "cell_type": "markdown",
   "metadata": {},
   "source": [
    "Sekarang, kita akan menganalisis banyaknya twit per bulan."
   ]
  },
  {
   "cell_type": "code",
   "execution_count": 9,
   "metadata": {},
   "outputs": [
    {
     "data": {
      "image/png": "[encoded data removed]",
      "text/plain": [
       "<Figure size 432x288 with 1 Axes>"
      ]
     },
     "metadata": {
      "needs_background": "light"
     },
     "output_type": "display_data"
    }
   ],
   "source": [
    "tweets_per_month = df_filtered.groupby('month')[['id']].agg('count')\n",
    "tweets_per_month = tweets_per_month.reindex(['jan', 'feb', 'mar', 'apr', 'may'])\n",
    "plt.bar(tweets_per_month.index, tweets_per_month.id, align='center', alpha=0.5, color='#0093AF');\n",
    "plt.xlabel('Bulan');\n",
    "plt.ylabel('Banyaknya twit');"
   ]
  },
  {
   "cell_type": "markdown",
   "metadata": {},
   "source": [
    "Dari _bar chart_ di atas, bisa dilihat bahwa twit-twit yang kami analisis kebanyakan ditulis pada bulan Maret dan Mei. Pesatnya peningkatan jumlah twit dari awal Februari ke awal Maret kemungkinan disebabkan karena koronavirus pertama kali terdeteksi di Indonesia pada bulan Maret (sumber: https://nasional.kompas.com/read/2020/03/03/06314981/fakta-lengkap-kasus-pertama-virus-corona-di-indonesia).\n",
    "\n",
    "Pemodelan topik akan dilakukan dengan dua metode, yakni Latent Dirichlet Allocation (LDA), yang bisa dilihat di http://ethen8181.github.io/machine-learning/clustering/topic_model/LDA.html dan https://radimrehurek.com/gensim/auto_examples/tutorials/run_lda.html, serta Short Text Topic Modeling (STTM), yang bisa dilihat di https://towardsdatascience.com/short-text-topic-modeling-70e50a57c883. Terdapat banyak penelitian yang menyimpulkan bahwa performa LDA buruk pada teks-teks singkat (silakan membaca https://stackoverflow.com/questions/29786985/whats-the-disadvantage-of-lda-for-short-texts untuk memahami hal ini lebih lanjut). Kita telah melihat betapa singkatnya teks-teks yang akan dianalisis, sehingga LDA mungkin bukan merupakan pilihan yang tepat. Mari kita lihat apakah kita bisa memverifikasi hal tersebut! "
   ]
  },
  {
   "cell_type": "markdown",
   "metadata": {},
   "source": [
    "### Analisis dengan LDA"
   ]
  },
  {
   "cell_type": "markdown",
   "metadata": {},
   "source": [
    "Untuk analisis ini, kami membiarkan parameter $\\texttt{alpha}$ dan $\\texttt{eta}$ dipelajari dari data dengan menambahkan argumen $\\texttt{alpha = 'auto'}$ dan $\\texttt{eta = 'auto'}$. Kami tidak melakukan _hyperparameter tuning_ karena menjalankan LDA untuk dokumen sebesar ini memerlukan waktu yang sangat lama.\n",
    "\n",
    "Kami melakukan 40 $\\textit{passes}$ melalui keseluruhan korpus. Untuk menentukan banyaknya topik, metrik yang kami gunakan adalah $\\textit{coherence score}$ (silakan membaca https://stats.stackexchange.com/questions/375062/how-does-topic-coherence-score-in-lda-intuitively-makes-sense untuk memahami hal ini lebih lanjut). Secara konkret, kami mencoba 6, 10, 15 dan 20 topik dan memilih banyaknya topik yang menghasilkan $\\textit{coherence score}$ terbesar."
   ]
  },
  {
   "cell_type": "code",
   "execution_count": 803,
   "metadata": {},
   "outputs": [],
   "source": [
    "#persiapan\n",
    "texts = list(df_filtered['cleaned'])\n",
    "id2word = corpora.Dictionary(texts)\n",
    "corpus = [id2word.doc2bow(text) for text in texts]\n",
    "\n",
    "#memilih banyaknya topik berdasarkan coherence score\n",
    "num_topics = [6, 10, 15, 20]\n",
    "coherences = []\n",
    "models = []\n",
    "\n",
    "for num_topic in num_topics:\n",
    "    lda_model = gensim.models.ldamodel.LdaModel(corpus=corpus,\n",
    "                                           id2word=id2word,\n",
    "                                           num_topics=num_topic, \n",
    "                                           random_state=100,\n",
    "                                           update_every=3,\n",
    "                                           chunksize=5000,\n",
    "                                           passes=40,\n",
    "                                           alpha='auto',\n",
    "                                           eta='auto',\n",
    "                                           eval_every=None)\n",
    "    coherence_model_lda = CoherenceModel(model=lda_model, texts=texts, dictionary=id2word, coherence='c_v')\n",
    "    coherence_score = coherence_model_lda.get_coherence()\n",
    "    coherences.append(coherence_score)\n",
    "    models.append(lda_model)"
   ]
  },
  {
   "cell_type": "code",
   "execution_count": 804,
   "metadata": {},
   "outputs": [
    {
     "data": {
      "text/plain": [
       "[0.4045968868045105,\n",
       " 0.4968927857306943,\n",
       " 0.5030554447274794,\n",
       " 0.49566287586354607]"
      ]
     },
     "execution_count": 804,
     "metadata": {},
     "output_type": "execute_result"
    }
   ],
   "source": [
    "coherences"
   ]
  },
  {
   "cell_type": "markdown",
   "metadata": {},
   "source": [
    "Dari hasil di atas, banyaknya topik yang menghasilkan _coherence score_ terbesar adalah 15. Namun, karena 10 topik menghasilkan _coherence score_ yang mirip, kami memutuskan untuk memilih 10 topik.\n",
    "\n",
    "Mari kita analisis topik-topik yang dihasilkan lebih lanjut."
   ]
  },
  {
   "cell_type": "code",
   "execution_count": 805,
   "metadata": {},
   "outputs": [
    {
     "name": "stdout",
     "output_type": "stream",
     "text": [
      "[(0,\n",
      "  '0.049*\"moga\" + 0.045*\"pandemi\" + 0.044*\"sehat\" + 0.030*\"cepat\" + '\n",
      "  '0.028*\"lawan\" + 0.024*\"hidup\" + 0.024*\"selamat\" + 0.023*\"allah\" + '\n",
      "  '0.018*\"ramadan\" + 0.014*\"wabah\"'),\n",
      " (1,\n",
      "  '0.036*\"orang\" + 0.031*\"rumah\" + 0.017*\"kena\" + 0.015*\"lockdown\" + '\n",
      "  '0.013*\"pakai\" + 0.013*\"lihat\" + 0.013*\"kerja\" + 0.012*\"salah\" + '\n",
      "  '0.011*\"sakit\" + 0.010*\"jaga\"'),\n",
      " (2,\n",
      "  '0.093*\"indonesia\" + 0.061*\"cina\" + 0.039*\"negara\" + 0.030*\"wabah\" + '\n",
      "  '0.029*\"jokowi\" + 0.026*\"perintah\" + 0.021*\"rakyat\" + 0.017*\"dunia\" + '\n",
      "  '0.016*\"presiden\" + 0.015*\"amerika\"'),\n",
      " (3,\n",
      "  '0.073*\"sebar\" + 0.065*\"cegah\" + 0.038*\"laku\" + 0.023*\"polri\" + '\n",
      "  '0.018*\"tugas\" + 0.017*\"masyarakat\" + 0.016*\"kabupaten\" + '\n",
      "  '0.015*\"disinfektan\" + 0.014*\"tangan\" + 0.014*\"upaya\"'),\n",
      " (4,\n",
      "  '0.057*\"mudik\" + 0.047*\"tes\" + 0.039*\"putus\" + 0.027*\"sebar\" + '\n",
      "  '0.026*\"rantai\" + 0.024*\"obat\" + 0.023*\"mata\" + 0.022*\"kampung\" + '\n",
      "  '0.021*\"hasil\" + 0.021*\"vaksin\"'),\n",
      " (5,\n",
      "  '0.096*\"positif\" + 0.078*\"pasien\" + 0.065*\"orang\" + 0.059*\"tinggal\" + '\n",
      "  '0.038*\"sembuh\" + 0.030*\"distancing\" + 0.025*\"social\" + 0.024*\"infeksi\" + '\n",
      "  '0.020*\"nyata\" + 0.019*\"rs\"'),\n",
      " (6,\n",
      "  '0.123*\"anak\" + 0.047*\"khawatir\" + 0.033*\"thearieair\" + 0.032*\"aryprasetyo\" '\n",
      "  '+ 0.032*\"tjhinfar\" + 0.032*\"wagimandeep\" + 0.031*\"narkosun\" + 0.031*\"sutra\" '\n",
      "  '+ 0.031*\"hamka\" + 0.030*\"kimmi\"'),\n",
      " (7,\n",
      "  '0.041*\"lockdown\" + 0.036*\"perintah\" + 0.034*\"wuhan\" + 0.027*\"jakarta\" + '\n",
      "  '0.024*\"warga\" + 0.023*\"psbb\" + 0.020*\"tutup\" + 0.019*\"bijak\" + '\n",
      "  '0.018*\"daerah\" + 0.018*\"kota\"'),\n",
      " (8,\n",
      "  '0.080*\"bantu\" + 0.063*\"dampak\" + 0.031*\"masyarakat\" + 0.030*\"pandemi\" + '\n",
      "  '0.020*\"warga\" + 0.019*\"terima\" + 0.018*\"peduli\" + 0.017*\"sembako\" + '\n",
      "  '0.017*\"donasi\" + 0.015*\"sosial\"'),\n",
      " (9,\n",
      "  '0.058*\"coronavirus\" + 0.038*\"medis\" + 0.034*\"via\" + 0.032*\"informasi\" + '\n",
      "  '0.028*\"tenaga\" + 0.025*\"data\" + 0.025*\"stay\" + 0.021*\"mei\" + '\n",
      "  '0.019*\"lengkap\" + 0.018*\"home\"')]\n"
     ]
    }
   ],
   "source": [
    "lda_model = models[1]\n",
    "pp = pprint.PrettyPrinter()\n",
    "pp.pprint(lda_model.print_topics())"
   ]
  },
  {
   "cell_type": "markdown",
   "metadata": {},
   "source": [
    "Untuk setiap topik, kita bisa melihat 10 kata yang dominan. Dari kata-kata tersebut, kita bisa menginterpretasi topik-topik di atas sebagai berikut:\n",
    "\n",
    "- Topik 0: twit mengenai **harapan agar pandemi koronavirus segera berakhir**\n",
    "- Topik 1: twit mengenai **_stay-at-home order_ dan _lockdown_**\n",
    "- Topik 2: twit mengenai **datangnya koronavirus dari Cina dan upaya negara untuk mendapatkan bantuan (alat medis) dari AS dan Cina dalam menangani koronavirus**\n",
    "- Topik 3: twit mengenai **upaya pemerintah dan POLRI dalam pencegahan penyebaran koronavirus melalui penyemprotan disinfektan**\n",
    "- Topik 4: twit mengenai **mudik lebaran dan efeknya terhadap penyebaran koronavirus**\n",
    "- Topik 5: twit mengenai **kasus positif koronavirus dan pentingnya _social distancing_**\n",
    "- Topik 6: tidak jelas; sepertinya datang dari _spam_\n",
    "- Topik 7: twit mengenai **_lockdown_ di berbagai daerah di Indonesia dan dunia, juga rencana PSBB di Indonesia**\n",
    "- Topik 8: twit mengenai **bantuan medis dan sosial untuk masyarakat di masa pandemi koronavirus**\n",
    "- Topik 9: twit mengenai **aspek medis koronavirus, termasuk berbagai informasi dan saran medis terkait koronavirus**"
   ]
  },
  {
   "cell_type": "markdown",
   "metadata": {},
   "source": [
    "Sekarang, mari melihat distribusi twit per topik."
   ]
  },
  {
   "cell_type": "code",
   "execution_count": 812,
   "metadata": {},
   "outputs": [],
   "source": [
    "topics = []\n",
    "dist = lda_model.get_document_topics(corpus)\n",
    "for i in range(0, len(dist)):\n",
    "    topics.append(sorted(dist[i], key=lambda x: x[1], reverse=True)[0][0])\n",
    "\n",
    "df_filtered['lda_topic'] = topics"
   ]
  },
  {
   "cell_type": "code",
   "execution_count": 14,
   "metadata": {},
   "outputs": [
    {
     "data": {
      "image/png": "[encoded data removed]",
      "text/plain": [
       "<Figure size 432x288 with 1 Axes>"
      ]
     },
     "metadata": {
      "needs_background": "light"
     },
     "output_type": "display_data"
    }
   ],
   "source": [
    "lda_dist = df_filtered.groupby('lda_topic')[['id']].count().reset_index()\n",
    "lda_dist['sum'] = np.sum(lda_dist['id'])\n",
    "lda_dist['pct'] = 100 * lda_dist['id'] / lda_dist['sum']\n",
    "\n",
    "plt.bar(lda_dist.lda_topic, lda_dist.pct, align='center', alpha=0.5, color='#800020');\n",
    "plt.xlabel('Topik');\n",
    "plt.xticks(np.arange(np.min(lda_dist.lda_topic), np.max(lda_dist.lda_topic)+1, 1));\n",
    "plt.ylabel('Persentase twit');"
   ]
  },
  {
   "cell_type": "markdown",
   "metadata": {},
   "source": [
    "Dari sini, bisa dilihat bahwa mayoritas twit tergolong dalam topik 1, dan sangat sedikit twit tergolong dalam topik 6. Hal ini masuk akal karena topik 6 adalah _spam_ yang kita deteksi dan topik 1 adalah tentang pentingnya _lockdown_ dan _stay-at-home_ order untuk memberantas koronavirus. Mari kita lihat apakah kita mendapatkan _bar chart_ yang serupa untuk setiap bulannya."
   ]
  },
  {
   "cell_type": "code",
   "execution_count": 15,
   "metadata": {},
   "outputs": [
    {
     "data": {
      "image/png": "[encoded data removed]",
      "text/plain": [
       "<Figure size 432x288 with 1 Axes>"
      ]
     },
     "metadata": {
      "needs_background": "light"
     },
     "output_type": "display_data"
    }
   ],
   "source": [
    "lda_dist = df_filtered.groupby(['month', 'lda_topic'])[['id']].count().reset_index()\n",
    "lda_dist_sum = lda_dist.groupby('month').agg({'id': 'sum'}).reset_index()\n",
    "lda_dist = lda_dist.merge(lda_dist_sum, on = 'month', how = 'left')\n",
    "lda_dist['pct'] = 100 * lda_dist['id_x']/lda_dist['id_y']\n",
    "ax = sns.barplot(x='lda_topic', hue='month', hue_order = ['jan', 'feb', 'mar', 'apr', 'may'], y='pct', data=lda_dist, palette='Set1')\n",
    "ax.set(xlabel = 'Topik', ylabel = 'Persentase twit')\n",
    "plt.show()"
   ]
  },
  {
   "cell_type": "markdown",
   "metadata": {},
   "source": [
    "Dari sini, kita bisa melihat bahwa topik 1 dan 2 adalah topik yang dominan setiap bulannya; popularitas topik 1 cukup stabil, sedangkan popularitas topik 2 cenderung menurun. Hipotesis kami ini dikarenakan topik 2 adalah tentang asal mula koronavirus dari Cina, yang ramai dibicarakan di bulan Januari dan Februari; sedangkan sisanya adalah tentang bantuan alat medis dari Cina dan Amerika, yang sangat dibutuhkan pada bulan Maret dan April.\n",
    "\n",
    "Kita juga bisa melihat peningkatan pada popularitas topik 0, 5, dan 8, yang masuk akal mengingat jumlah kasus koronavirus di Indonesia yang terus meningkat. Hal ini mendorong orang-orang untuk menulis twit mengenai 1) harapan mereka agar pandemi cepat berakhir dan kegiatan kembali seperti semula, 2) pentingnya _social distancing_ dan banyaknya kasus positif koronavirus, dan 3) bantuan medis dan sosial di masa koronavirus.\n",
    "\n",
    "Terdapat pula peningkatan pesat pada popularitas topik 3 di bulan Maret, yang mungkin adalah imbas dari meningkatnya kasus korona di Indonesia, di mana polisi mulai menyemprotkan disinfektan di rumah warga yang menjadi _suspect_ atau pasien koronavirus. Aksi-aksi ini banyaknya dilakukan dan diperintahkan di bulan Maret (sumber: https://news.detik.com/berita/d-4957124/kapolri-perintahkan-jajaran-semprot-disinfektan-massal-cegah-corona).\n",
    "\n",
    "Penurunan pada popularitas topik 7 adalah sesuatu yang tidak terduga mengingat betapa efektifnya _lockdown_ dalam mencegah penyebaran koronavirus. Hipotesis kami mengatakan bahwa ini adalah karena twit-twit mengenai perintah _stay-at-home_ dan _lockdown_ terbagi dua dalam topik 1 dan 7.\n",
    "\n",
    "Sebagai pelengkap, kami tampilkan _bar chart_ yang menunjukkan jumlah twit untuk masing-masing topik di bawah ini."
   ]
  },
  {
   "cell_type": "code",
   "execution_count": 19,
   "metadata": {},
   "outputs": [
    {
     "data": {
      "image/png": "[encoded data removed]",
      "text/plain": [
       "<Figure size 432x288 with 1 Axes>"
      ]
     },
     "metadata": {
      "needs_background": "light"
     },
     "output_type": "display_data"
    }
   ],
   "source": [
    "lda_dist = df_filtered.groupby(['month', 'lda_topic'])[['id']].count().reset_index()\n",
    "ax = sns.barplot(x='lda_topic', hue='month', hue_order = ['jan', 'feb', 'mar', 'apr', 'may'], y='id', data=lda_dist , palette='Set1')\n",
    "ax.set(xlabel = 'Topik', ylabel = 'Banyaknya twit')\n",
    "plt.show()"
   ]
  },
  {
   "cell_type": "markdown",
   "metadata": {},
   "source": [
    "Sekarang, mari kita menganalisis banyaknya _retweet_ dan _like_ per topik."
   ]
  },
  {
   "cell_type": "code",
   "execution_count": 25,
   "metadata": {},
   "outputs": [
    {
     "data": {
      "image/png": "[encoded data removed]",
      "text/plain": [
       "<Figure size 432x288 with 1 Axes>"
      ]
     },
     "metadata": {
      "needs_background": "light"
     },
     "output_type": "display_data"
    }
   ],
   "source": [
    "ret_cnt_dist = df_filtered.groupby('lda_topic').agg({'ret_cnt': 'mean'}).reset_index()\n",
    "plt.bar(ret_cnt_dist.lda_topic, ret_cnt_dist.ret_cnt, align='center', alpha=0.5, color='#00693E');\n",
    "plt.xlabel('Topik');\n",
    "plt.xticks(np.arange(np.min(lda_dist.lda_topic), np.max(lda_dist.lda_topic)+1, 1));\n",
    "plt.ylabel('Rata-rata banyaknya retweet');"
   ]
  },
  {
   "cell_type": "markdown",
   "metadata": {},
   "source": [
    "Dari sini, bisa kita lihat bahwa topik-topik yang paling sering di-$\\textit{retweet}$ adalah topik 2, 5, dan 9. Mari kita menganalisis apakah pola yang sama dapat diobservasi setiap bulannya."
   ]
  },
  {
   "cell_type": "code",
   "execution_count": 23,
   "metadata": {},
   "outputs": [
    {
     "data": {
      "image/png": "[encoded data removed]",
      "text/plain": [
       "<Figure size 432x288 with 1 Axes>"
      ]
     },
     "metadata": {
      "needs_background": "light"
     },
     "output_type": "display_data"
    }
   ],
   "source": [
    "ret_cnt_dist = df_filtered.groupby(['month','lda_topic']).agg({'ret_cnt': 'mean'}).reset_index()\n",
    "ax = sns.barplot(x='lda_topic', hue='month', hue_order = ['jan', 'feb', 'mar', 'apr', 'may'], y='ret_cnt', data=ret_cnt_dist, palette='ch:2.5,-.2,dark=.3');\n",
    "ax.set(xlabel = 'Topik', ylabel = 'Rata-rata banyaknya retweet');\n",
    "plt.legend(bbox_to_anchor=(1, 1));\n",
    "plt.show();"
   ]
  },
  {
   "cell_type": "markdown",
   "metadata": {},
   "source": [
    "Hal paling signifikan yang bisa dilihat pada _bar chart_ berikut ini adalah betapa banyaknya _retweet_ untuk setiap topik pada bulan Maret. Kita juga dapat melihat bahwa topik-topik yang cenderung jarang di-_retweet_ setiap bulannya adalah topik 3, 6, dan 8. Terdapat banyak sekali _retweet_ mengenai topik 9 pada bulan Januari, yang mungkin disebabkan oleh banyaknya masyarakat yang belum familiar dengan koronavirus. Selain itu, tidak ada hal berarti lain yang bisa disimpulkan dari _bar chart_ di atas.\n",
    "\n",
    "Sekarang, kita akan melakukan hal yang sama untuk menganalisis banyaknya _like_."
   ]
  },
  {
   "cell_type": "code",
   "execution_count": 21,
   "metadata": {},
   "outputs": [
    {
     "data": {
      "image/png": "[encoded data removed]",
      "text/plain": [
       "<Figure size 432x288 with 1 Axes>"
      ]
     },
     "metadata": {
      "needs_background": "light"
     },
     "output_type": "display_data"
    }
   ],
   "source": [
    "fav_cnt_dist = df_filtered.groupby('lda_topic').agg({'fav_cnt': 'mean'}).reset_index()\n",
    "plt.bar(fav_cnt_dist.lda_topic, fav_cnt_dist.fav_cnt, align='center', alpha=0.5, color='red');\n",
    "plt.xlabel('Topik');\n",
    "plt.xticks(np.arange(np.min(lda_dist.lda_topic), np.max(lda_dist.lda_topic)+1, 1));\n",
    "plt.ylabel('Rerata banyaknya like');"
   ]
  },
  {
   "cell_type": "markdown",
   "metadata": {},
   "source": [
    "Dari sini, bisa didapatkan bahwa topik-topik yang paling sering di-_like_ adalah topik 2, 5, dan 9, sama dengan hasil di atas. Mari kita menganalisis apakah pola yang sama dapat diobservasi setiap bulannya."
   ]
  },
  {
   "cell_type": "code",
   "execution_count": 28,
   "metadata": {},
   "outputs": [
    {
     "data": {
      "image/png": "[encoded data removed]",
      "text/plain": [
       "<Figure size 432x288 with 1 Axes>"
      ]
     },
     "metadata": {
      "needs_background": "light"
     },
     "output_type": "display_data"
    }
   ],
   "source": [
    "fav_cnt_dist = df_filtered.groupby(['month','lda_topic']).agg({'fav_cnt': 'mean'}).reset_index()\n",
    "ax = sns.barplot(x='lda_topic', hue='month', hue_order = ['jan', 'feb', 'mar', 'apr', 'may'], y='fav_cnt', data=fav_cnt_dist, palette='Reds');\n",
    "ax.set(xlabel = 'Topik', ylabel = 'Rerata banyaknya like');\n",
    "plt.legend(bbox_to_anchor=(1, 1));\n",
    "plt.show();"
   ]
  },
  {
   "cell_type": "markdown",
   "metadata": {},
   "source": [
    "Kita mendapatkan _bar chart_ yang cukup mirip dengan _bar chart_ di atas! Hal ini menunjukkan korelasi yang cukup kuat antara banyaknya _like_ dan _retweet_."
   ]
  },
  {
   "cell_type": "markdown",
   "metadata": {},
   "source": [
    "### Analisis dengan STTM"
   ]
  },
  {
   "cell_type": "markdown",
   "metadata": {},
   "source": [
    "Sekarang, kita akan mengulangi analisis yang sama dengan metode STTM. Kami memutuskan untuk menggunakan 10 topik. Kami juga tidak melakukan _hyperparameter tuning_, dan memilih untuk menggunakan nilai parameter _default_ untuk _alpha_ dan _beta_.\n",
    "\n",
    "Untuk melakukan STTM, kami menggunakan implementasi GSDMM yang bisa diunduh dari https://github.com/rwalk/gsdmm."
   ]
  },
  {
   "cell_type": "code",
   "execution_count": 887,
   "metadata": {
    "scrolled": true
   },
   "outputs": [
    {
     "name": "stdout",
     "output_type": "stream",
     "text": [
      "In stage 0: transferred 115957 clusters with 10 clusters populated\n",
      "In stage 1: transferred 91540 clusters with 10 clusters populated\n",
      "In stage 2: transferred 53003 clusters with 10 clusters populated\n",
      "In stage 3: transferred 39521 clusters with 10 clusters populated\n",
      "In stage 4: transferred 34223 clusters with 10 clusters populated\n",
      "In stage 5: transferred 31995 clusters with 10 clusters populated\n",
      "In stage 6: transferred 31133 clusters with 10 clusters populated\n",
      "In stage 7: transferred 30520 clusters with 10 clusters populated\n",
      "In stage 8: transferred 29795 clusters with 10 clusters populated\n",
      "In stage 9: transferred 29656 clusters with 10 clusters populated\n",
      "In stage 10: transferred 29409 clusters with 10 clusters populated\n",
      "In stage 11: transferred 29184 clusters with 10 clusters populated\n",
      "In stage 12: transferred 28790 clusters with 10 clusters populated\n",
      "In stage 13: transferred 28860 clusters with 10 clusters populated\n",
      "In stage 14: transferred 28636 clusters with 10 clusters populated\n",
      "In stage 15: transferred 28709 clusters with 10 clusters populated\n",
      "In stage 16: transferred 28552 clusters with 10 clusters populated\n",
      "In stage 17: transferred 28602 clusters with 10 clusters populated\n",
      "In stage 18: transferred 28420 clusters with 10 clusters populated\n",
      "In stage 19: transferred 28238 clusters with 10 clusters populated\n",
      "In stage 20: transferred 28498 clusters with 10 clusters populated\n",
      "In stage 21: transferred 28479 clusters with 10 clusters populated\n",
      "In stage 22: transferred 28389 clusters with 10 clusters populated\n",
      "In stage 23: transferred 28661 clusters with 10 clusters populated\n",
      "In stage 24: transferred 28440 clusters with 10 clusters populated\n",
      "In stage 25: transferred 28504 clusters with 10 clusters populated\n",
      "In stage 26: transferred 28641 clusters with 10 clusters populated\n",
      "In stage 27: transferred 28521 clusters with 10 clusters populated\n",
      "In stage 28: transferred 28423 clusters with 10 clusters populated\n",
      "In stage 29: transferred 28432 clusters with 10 clusters populated\n"
     ]
    }
   ],
   "source": [
    "docs = df_filtered['cleaned'].tolist()\n",
    "vocab = set(x for doc in docs for x in doc)\n",
    "n_terms = len(vocab)\n",
    "\n",
    "mgp = gsdmm.gsdmm.MovieGroupProcess(K=10, alpha=0.1, beta=0.1, n_iters=30)\n",
    "y = mgp.fit(docs, n_terms)"
   ]
  },
  {
   "cell_type": "markdown",
   "metadata": {},
   "source": [
    "Mari kita menganalisis 10 kata yang paling sering muncul dari setiap topik yang dihasilkan."
   ]
  },
  {
   "cell_type": "code",
   "execution_count": 889,
   "metadata": {},
   "outputs": [
    {
     "name": "stdout",
     "output_type": "stream",
     "text": [
      "Cluster 0\n",
      "[('cina', 2317), ('wuhan', 1960), ('indonesia', 1593), ('wni', 1490), ('evakuasi', 1105), ('warga', 1023), ('negara', 915), ('perintah', 888), ('coronavirus', 631), ('masuk', 546)]\n",
      "********************\n",
      "Cluster 1\n",
      "[('anak', 1025), ('thearieair', 923), ('tjhinfar', 920), ('hamka', 916), ('sutra', 915), ('narkosun', 910), ('wagimandeep', 909), ('kimmi', 900), ('aryprasetyo', 898), ('kampoeng', 894)]\n",
      "********************\n",
      "Cluster 2\n",
      "[('lockdown', 4587), ('perintah', 3069), ('indonesia', 1590), ('laku', 1507), ('sebar', 1471), ('psbb', 1464), ('jokowi', 1393), ('warga', 1356), ('mudik', 1178), ('masyarakat', 1174)]\n",
      "********************\n",
      "Cluster 3\n",
      "[('cina', 4727), ('indonesia', 4466), ('orang', 3623), ('negara', 2872), ('mati', 1674), ('perintah', 1649), ('wabah', 1478), ('jokowi', 1477), ('rakyat', 1404), ('dunia', 1332)]\n",
      "********************\n",
      "Cluster 4\n",
      "[('cegah', 2432), ('sebar', 1908), ('polri', 1755), ('laku', 1320), ('semprot', 1267), ('disinfektan', 1228), ('laksana', 971), ('masyarakat', 936), ('warga', 753), ('giat', 706)]\n",
      "********************\n",
      "Cluster 5\n",
      "[('orang', 3676), ('rumah', 3049), ('moga', 2636), ('lockdown', 2099), ('gara', 1669), ('stay', 1551), ('kena', 1419), ('lihat', 1375), ('cepat', 1371), ('pakai', 1260)]\n",
      "********************\n",
      "Cluster 6\n",
      "[('bantu', 3719), ('dampak', 2257), ('tangan', 1554), ('warga', 1409), ('masyarakat', 1393), ('indonesia', 1384), ('pandemi', 1297), ('medis', 1206), ('lawan', 1130), ('sembako', 1047)]\n",
      "********************\n",
      "Cluster 7\n",
      "[('positif', 6156), ('pasien', 4959), ('orang', 4810), ('tinggal', 3123), ('sembuh', 2517), ('indonesia', 1774), ('update', 1703), ('nyata', 1426), ('tes', 1315), ('data', 1298)]\n",
      "********************\n",
      "Cluster 8\n",
      "[('pandemi', 2829), ('indonesia', 2081), ('dampak', 1442), ('wabah', 1346), ('ekonomi', 1318), ('cina', 949), ('perintah', 936), ('kerja', 869), ('akibat', 786), ('laku', 763)]\n",
      "********************\n",
      "Cluster 9\n",
      "[('jaga', 2283), ('sebar', 1754), ('cegah', 1728), ('rumah', 1578), ('sehat', 1420), ('masker', 1200), ('tangan', 1030), ('mudik', 954), ('distancing', 906), ('jarak', 858)]\n",
      "********************\n"
     ]
    }
   ],
   "source": [
    "for i in range(10):\n",
    "    print('Cluster ' + str(i))\n",
    "    print(sorted(mgp.cluster_word_distribution[i].items(),key = operator.itemgetter(1),reverse = True)[:10])\n",
    "    print('*' * 20)"
   ]
  },
  {
   "cell_type": "markdown",
   "metadata": {},
   "source": [
    "Untuk setiap topik, kita bisa melihat 10 kata yang dominan. Dari kata-kata tersebut, kita bisa menginterpretasi topik-topik di atas sebagai berikut:\n",
    "\n",
    "- Topik 0: twit mengenai **koronavirus di Cina, khususnya Wuhan, dan evakuasi warga negara Indonesia**\n",
    "- Topik 1: tidak jelas; lagi-lagi ini sepertinya datang dari _spam_, dan ini konsisten dengan topik 6 dari LDA.\n",
    "- Topik 2: twit mengenai **perintah _lockdown_, PSBB, dan larangan mudik di Indonesia**\n",
    "- Topik 3: twit mengenai **penyebaran di berbagai negara dan hubungan dengan luar negeri**\n",
    "- Topik 4: twit mengenai **upaya pencegahan penyebaran koronavirus yang dilakukan pemerintah, seperti penyemprotan disinfektan oleh polisi**\n",
    "- Topik 5: twit mengenai **_stay-at-home_ order dan _lockdown_, serta kegiatan-kegiatan dan keluhan selama _stay-at-home_**\n",
    "- Topik 6: twit mengenai **bantuan untuk tenaga medis, dan bantuan sosial dan medis untuk masyarakat di masa pandemi koronavirus**\n",
    "- Topik 7: twit mengenai **kasus positif koronavirus, termasuk pasien yang sembuh, dan dilakukannya tes koronavirus**\n",
    "- Topik 8: twit mengenai **dampak pandemi koronavirus terhadap perekonomian Indonesia**\n",
    "- Topik 9: twit mengenai **upaya pencegahan penyebaran koronavirus yang bisa dilakukan masyarakat, seperti _social distancing_, menggunakan masker, dan tetap di rumah** (mirip dengan topik 5)\n",
    "\n",
    "Bisa dilihat bahwa topik-topik yang dihasilkan oleh STTM lumayan mirip dengan topik-topik yang dihasilkan oleh LDA. Sekarang, mari melihat distribusi twit per topik."
   ]
  },
  {
   "cell_type": "code",
   "execution_count": 900,
   "metadata": {},
   "outputs": [],
   "source": [
    "topics = []\n",
    "for i in range(len(docs)):\n",
    "    topics.append(mgp.choose_best_label(docs[i])[0])\n",
    "    \n",
    "df_filtered['sttm_topic'] = topics"
   ]
  },
  {
   "cell_type": "code",
   "execution_count": 31,
   "metadata": {},
   "outputs": [
    {
     "data": {
      "image/png": "[encoded data removed]",
      "text/plain": [
       "<Figure size 432x288 with 1 Axes>"
      ]
     },
     "metadata": {
      "needs_background": "light"
     },
     "output_type": "display_data"
    }
   ],
   "source": [
    "sttm_dist = df_filtered.groupby('sttm_topic')[['id']].count().reset_index()\n",
    "sttm_dist['sum'] = np.sum(sttm_dist['id'])\n",
    "sttm_dist['pct'] = 100 * sttm_dist['id'] / sttm_dist['sum']\n",
    "\n",
    "plt.bar(sttm_dist.sttm_topic, sttm_dist.pct, align='center', alpha=0.5, color='#66023C');\n",
    "plt.xlabel('Topik');\n",
    "plt.xticks(np.arange(np.min(sttm_dist.sttm_topic), np.max(sttm_dist.sttm_topic)+1, 1));\n",
    "plt.ylabel('Persentase twit');"
   ]
  },
  {
   "cell_type": "markdown",
   "metadata": {},
   "source": [
    "Dari sini, bisa dilihat bahwa mayoritas twit tergolong dalam topik 3 dan 5, dan sangat sedikit twit tergolong dalam topik 1. Hal ini wajar karena topik 1 di sini adalah _spam_ dan topik 3 dan 5 berbicara mengenai penyebaran koronavirus dan perintah _stay-at-home_. Mari kita lihat apakah kita mendapatkan _bar chart_ yang serupa untuk setiap bulannya."
   ]
  },
  {
   "cell_type": "code",
   "execution_count": 38,
   "metadata": {},
   "outputs": [
    {
     "data": {
      "image/png": "[encoded data removed]",
      "text/plain": [
       "<Figure size 432x288 with 1 Axes>"
      ]
     },
     "metadata": {
      "needs_background": "light"
     },
     "output_type": "display_data"
    }
   ],
   "source": [
    "sttm_dist = df_filtered.groupby(['month', 'sttm_topic'])[['id']].count().reset_index()\n",
    "sttm_dist_sum = sttm_dist.groupby('month').agg({'id': 'sum'}).reset_index()\n",
    "sttm_dist = sttm_dist.merge(sttm_dist_sum, on = 'month', how = 'left')\n",
    "sttm_dist['pct'] = 100 * sttm_dist['id_x']/sttm_dist['id_y']\n",
    "ax = sns.barplot(x='sttm_topic', hue='month', hue_order = ['jan', 'feb', 'mar', 'apr', 'may'], y='pct', data=sttm_dist, palette='cubehelix');\n",
    "ax.set(xlabel = 'Topik', ylabel = 'Persentase twit');\n",
    "plt.show();"
   ]
  },
  {
   "cell_type": "markdown",
   "metadata": {},
   "source": [
    "Dari _bar chart_ di atas, diperoleh bahwa topik 3 dan 5 cenderung populer setiap bulannya. Namun, popularitas topik 3 cenderung berkurang dan popularitas topik 5 cenderung meningkat. Hipotesis kami adalah penerapan PSBB dan _stay-at-home_ di Indonesia pada bulan April-Mei meningkatkan popularitas topik 5, sementara bertambahnya penyebaran virus dalam negeri (dibandingkan penyebaran virus luar negeri) menyebabkan popularitas topik 3 menurun.\n",
    "\n",
    "Popularitas topik 0 menunjukkan penurunan drastis; hal ini masuk akal karena evakuasi warga negara Indonesia di Wuhan umumnya terjadi pada bulan Januari dan Februari. Seperti diperkirakan, kita melihat kenaikan pada popularitas topik 2 dan 5 yang berkaitan dengan _lockdown_.\n",
    "\n",
    "Sekarang, mari kita menganalisis banyaknya _retweet_ dan _like_ per topik."
   ]
  },
  {
   "cell_type": "code",
   "execution_count": 39,
   "metadata": {},
   "outputs": [
    {
     "data": {
      "image/png": "[encoded data removed]",
      "text/plain": [
       "<Figure size 432x288 with 1 Axes>"
      ]
     },
     "metadata": {
      "needs_background": "light"
     },
     "output_type": "display_data"
    }
   ],
   "source": [
    "ret_cnt_dist = df_filtered.groupby('sttm_topic').agg({'ret_cnt': 'mean'}).reset_index()\n",
    "plt.bar(ret_cnt_dist.sttm_topic, ret_cnt_dist.ret_cnt, align='center', alpha=0.5, color='#00693E');\n",
    "plt.xlabel('Topik');\n",
    "plt.xticks(np.arange(np.min(sttm_dist.sttm_topic), np.max(sttm_dist.sttm_topic)+1, 1));\n",
    "plt.ylabel('Rerata banyaknya retweet');"
   ]
  },
  {
   "cell_type": "markdown",
   "metadata": {},
   "source": [
    "Dari sini, bisa kita lihat bahwa topik-topik yang paling sering di-_retweet_ adalah topik 3 dan 7. Mari kita menganalisis apakah pola yang sama dapat diobservasi setiap bulannya."
   ]
  },
  {
   "cell_type": "code",
   "execution_count": 41,
   "metadata": {},
   "outputs": [
    {
     "data": {
      "image/png": "[encoded data removed]",
      "text/plain": [
       "<Figure size 432x288 with 1 Axes>"
      ]
     },
     "metadata": {
      "needs_background": "light"
     },
     "output_type": "display_data"
    }
   ],
   "source": [
    "ret_cnt_dist = df_filtered.groupby(['month','sttm_topic']).agg({'ret_cnt': 'mean'}).reset_index()\n",
    "ax = sns.barplot(x='sttm_topic', hue='month', hue_order = ['jan', 'feb', 'mar', 'apr', 'may'], y='ret_cnt', data=ret_cnt_dist, palette='ch:2.5,-.2,dark=.3');\n",
    "ax.set(xlabel = 'Topik', ylabel = 'Rerata banyaknya retweet');\n",
    "plt.legend(bbox_to_anchor=(1, 1));\n",
    "plt.show();"
   ]
  },
  {
   "cell_type": "markdown",
   "metadata": {},
   "source": [
    "Tren yang sama, di mana terdapat sangat banyak _retweet_ di bulan Maret untuk setiap topik, juga bisa diobservasi di sini. Hal lain yang bisa dilihat adalah topik 4 hanya banyak di-_retweet_ di bulan Januari dan Maret. Analisis banyaknya _like_ per topik tidak disertakan karena hasilnya hampir sama dengan analisis banyaknya _retweet_ per topik.\n",
    "\n",
    "Hasil-hasil di atas (serta hasil-hasil penting lain) dapat dirangkum sebagai berikut:"
   ]
  },
  {
   "cell_type": "markdown",
   "metadata": {},
   "source": [
    "### Kesimpulan: Pemodelan Topik\n",
    "\n",
    "Saat melihat kata-kata representasi dari seluruh topik di kedua analisis (dengan LDA dan STTM), kami merasa topik-topik yang dihasilkan oleh STTM lebih bermakna dan menyeluruh daripada topik-topik yang dihasilkan LDA. Perbedaan terbesar dari kedua model tersebut adalah LDA berasumsi bahwa masing-masing dokumen terdiri dari campuran beberapa topik, sementara STTM berasumsi bahwa masing-masing dokumen dihasilkan oleh satu topik. Dalam kasus kami, satu dokumen merepresentasikan satu buah twit. Kami merasa bahwa sebuah twit biasanya membicarakan satu topik utama, sehingga STTM menghasilkan topik-topik yang terlihat lebih berarti dan komprehensif dalam analisis ini.\n",
    "\n",
    "#### LDA\n",
    "\n",
    "##### 10 topik yang dihasilkan, dari yang paling populer:\n",
    "1. Topik 1: twit mengenai **_stay-at-home order_ dan _lockdown_** (35.6%)\n",
    "2. Topik 2: twit mengenai **datangnya koronavirus dari Cina dan upaya negara untuk mendapatkan bantuan (alat medis) dari AS dan Cina dalam menangani koronavirus** (15.1%)\n",
    "3. Topik 0: twit mengenai **harapan agar pandemi koronavirus segera berakhir** (8.5%)\n",
    "4. Topik 7: twit mengenai **_lockdown_ di berbagai daerah di Indonesia dan dunia, juga rencana PSBB di Indonesia**(8.4%)\n",
    "5. Topik 5: twit mengenai **kasus positif koronavirus dan pentingnya _social distancing_** (8.3%)\n",
    "6. Topik 3: twit mengenai **upaya pemerintah dan POLRI dalam pencegahan penyebaran koronavirus melalui penyemprotan disinfektan** (8.2%)\n",
    "7. Topik 8: twit mengenai **bantuan medis dan sosial untuk masyarakat di masa pandemi koronavirus** (6.2%)\n",
    "8. Topik 9: twit mengenai **aspek medis koronavirus, termasuk berbagai informasi dan saran medis terkait koronavirus** (5.1%)\n",
    "9. Topik 4: twit mengenai **mudik lebaran dan efeknya terhadap penyebaran koronavirus** (3.4%)\n",
    "10. Topik 6: tidak jelas; sepertinya datang dari _spam_ (1.1%)\n",
    "\n",
    "##### 4 topik teratas setiap bulannya:\n",
    "1. Januari: topik 1 (32.7%), topik 2 (25.1%), topik 7 (17.7%)\n",
    "2. Februari: topik 1 (32.8%), topik 2 (30.5%), topik 7 (8.0%)\n",
    "3. Maret: topik 1 (37.2%), topik 2 (14.4%), topik 3 (10.7%)\n",
    "4. April: topik 1 (32.8%), topik 2 (12.5%), topik 8 (10.2%)\n",
    "5. Mei: topik 1 (37.7%), topik 0 (11.3%), topik 2 (10.0%)\n",
    "\n",
    "##### Popularitas topik setiap bulannya:\n",
    "1. Meningkat: topik 0\n",
    "2. Menurun: topik 7\n",
    "3. Stabil: topik 1, topik 9\n",
    "4. Meningkat lalu menurun: topik 2, topik 3, topik 5, topik 8\n",
    "5. Menurun lalu meningkat: topik 4, topik 6\n",
    "\n",
    "##### Topik-topik yang paling sering di-retweet dan di-like adalah topik 2, 5 dan 9.\n",
    "\n",
    "#### STTM\n",
    "\n",
    "##### 10 topik yang dihasilkan, dari yang paling populer:\n",
    "1. Topik 5: twit mengenai **_stay-at-home_ order dan _lockdown_, serta kegiatan-kegiatan dan keluhan selama _stay-at-home_** (21.8%)\n",
    "2. Topik 3: twit mengenai **penyebaran di berbagai negara dan hubungan dengan luar negeri** (19.9%)\n",
    "3. Topik 7: twit mengenai **kasus positif koronavirus, termasuk pasien yang sembuh, dan dilakukannya tes koronavirus** (11.9%)\n",
    "4. Topik 2: twit mengenai **perintah _lockdown_, PSBB, dan larangan mudik di Indonesia** (11.0%)\n",
    "5. Topik 8: twit mengenai **dampak pandemi koronavirus terhadap perekonomian Indonesia** (10.1%)\n",
    "6. Topik 6: twit mengenai **bantuan untuk tenaga medis, dan bantuan sosial dan medis untuk masyarakat di masa pandemi koronavirus** (8.1%)\n",
    "7. Topik 9: twit mengenai **upaya pencegahan penyebaran koronavirus yang bisa dilakukan masyarakat, seperti _social distancing_, menggunakan masker, dan tetap di rumah** (5.7%)\n",
    "8. Topik 0: twit mengenai **koronavirus di Cina, khususnya Wuhan, dan evakuasi warga negara Indonesia** (5.2%)\n",
    "9. Topik 4: twit mengenai **upaya pencegahan penyebaran koronavirus yang dilakukan pemerintah, seperti penyemprotan disinfektan oleh polisi** (5.0%)\n",
    "10. Topik 1: tidak jelas; lagi-lagi ini sepertinya datang dari _spam_, dan ini konsisten dengan topik 6 dari LDA (1.3%)\n",
    "\n",
    "\n",
    "##### 4 topik teratas setiap bulannya:\n",
    "1. Januari: topik 3 (33.9%), topik 0 (29.7%), topik 5 (11.1%)\n",
    "2. Februari: topik 3 (36.7%), topik 0 (18.2%), topik 8 (15.0%)\n",
    "3. Maret: topik 5 (23.3%), topik 3 (18.2%), topik 2 (15.9%)\n",
    "4. April: topik 5 (22.6%), topik 3 (15.3%), topik 7 (14.2%)\n",
    "5. Mei: topik 5 (25.6%), topik 3 (15.8%), topik 2 (11.6%)\n",
    "\n",
    "##### Popularitas topik setiap bulannya:\n",
    "1. Meningkat: topik 1, topik 5\n",
    "2. Menurun: topik 0\n",
    "3. Stabil: topik 8\n",
    "4. Meningkat lalu menurun: topik 2, topik 3, topik 4, topik 6, topik 7\n",
    "5. Menurun lalu meningkat: topik 9\n",
    "\n",
    "##### Topik-topik yang paling sering di-_retweet_ dan di-_like_ adalah topik 3 dan 7."
   ]
  },
  {
   "cell_type": "markdown",
   "metadata": {},
   "source": [
    "### Analisis _Hashtag_\n",
    "\n",
    "Mari kita melihat 5 _hashtag_ terpopuler dari twit-twit orisinal setiap bulannya."
   ]
  },
  {
   "cell_type": "code",
   "execution_count": 42,
   "metadata": {},
   "outputs": [
    {
     "data": {
      "text/html": [
       "<div>\n",
       "<style scoped>\n",
       "    .dataframe tbody tr th:only-of-type {\n",
       "        vertical-align: middle;\n",
       "    }\n",
       "\n",
       "    .dataframe tbody tr th {\n",
       "        vertical-align: top;\n",
       "    }\n",
       "\n",
       "    .dataframe thead th {\n",
       "        text-align: right;\n",
       "    }\n",
       "</style>\n",
       "<table border=\"1\" class=\"dataframe\">\n",
       "  <thead>\n",
       "    <tr style=\"text-align: right;\">\n",
       "      <th></th>\n",
       "      <th>hashtag</th>\n",
       "      <th>num</th>\n",
       "      <th>sum</th>\n",
       "      <th>pct</th>\n",
       "    </tr>\n",
       "  </thead>\n",
       "  <tbody>\n",
       "    <tr>\n",
       "      <th>19</th>\n",
       "      <td>#viruscorona</td>\n",
       "      <td>372</td>\n",
       "      <td>5087</td>\n",
       "      <td>7.312758</td>\n",
       "    </tr>\n",
       "    <tr>\n",
       "      <th>4</th>\n",
       "      <td>#coronavirus</td>\n",
       "      <td>337</td>\n",
       "      <td>5087</td>\n",
       "      <td>6.624730</td>\n",
       "    </tr>\n",
       "    <tr>\n",
       "      <th>11</th>\n",
       "      <td>#waspadaviruscorona</td>\n",
       "      <td>335</td>\n",
       "      <td>5087</td>\n",
       "      <td>6.585414</td>\n",
       "    </tr>\n",
       "    <tr>\n",
       "      <th>39</th>\n",
       "      <td>#corona</td>\n",
       "      <td>127</td>\n",
       "      <td>5087</td>\n",
       "      <td>2.496560</td>\n",
       "    </tr>\n",
       "    <tr>\n",
       "      <th>1</th>\n",
       "      <td>#china</td>\n",
       "      <td>107</td>\n",
       "      <td>5087</td>\n",
       "      <td>2.103401</td>\n",
       "    </tr>\n",
       "  </tbody>\n",
       "</table>\n",
       "</div>"
      ],
      "text/plain": [
       "                hashtag  num   sum       pct\n",
       "19         #viruscorona  372  5087  7.312758\n",
       "4          #coronavirus  337  5087  6.624730\n",
       "11  #waspadaviruscorona  335  5087  6.585414\n",
       "39              #corona  127  5087  2.496560\n",
       "1                #china  107  5087  2.103401"
      ]
     },
     "execution_count": 42,
     "metadata": {},
     "output_type": "execute_result"
    }
   ],
   "source": [
    "#Januari\n",
    "all_hashtags = list(df_filtered[df_filtered['month'] == 'jan']['hashtags'])\n",
    "all_hashtags = Counter([item for sublist in all_hashtags for item in sublist])\n",
    "all_hashtags = pd.DataFrame.from_dict(all_hashtags, orient='index').reset_index()\n",
    "all_hashtags.columns = ['hashtag', 'num']\n",
    "all_hashtags['sum'] = np.sum(all_hashtags['num'])\n",
    "all_hashtags['pct'] = 100 * all_hashtags['num']/all_hashtags['sum']\n",
    "all_hashtags = all_hashtags.sort_values('pct', ascending = False).head(5)\n",
    "all_hashtags"
   ]
  },
  {
   "cell_type": "code",
   "execution_count": 43,
   "metadata": {},
   "outputs": [
    {
     "data": {
      "text/html": [
       "<div>\n",
       "<style scoped>\n",
       "    .dataframe tbody tr th:only-of-type {\n",
       "        vertical-align: middle;\n",
       "    }\n",
       "\n",
       "    .dataframe tbody tr th {\n",
       "        vertical-align: top;\n",
       "    }\n",
       "\n",
       "    .dataframe thead th {\n",
       "        text-align: right;\n",
       "    }\n",
       "</style>\n",
       "<table border=\"1\" class=\"dataframe\">\n",
       "  <thead>\n",
       "    <tr style=\"text-align: right;\">\n",
       "      <th></th>\n",
       "      <th>hashtag</th>\n",
       "      <th>num</th>\n",
       "      <th>sum</th>\n",
       "      <th>pct</th>\n",
       "    </tr>\n",
       "  </thead>\n",
       "  <tbody>\n",
       "    <tr>\n",
       "      <th>56</th>\n",
       "      <td>#bersamacegahcorona</td>\n",
       "      <td>573</td>\n",
       "      <td>6099</td>\n",
       "      <td>9.394983</td>\n",
       "    </tr>\n",
       "    <tr>\n",
       "      <th>4</th>\n",
       "      <td>#viruscorona</td>\n",
       "      <td>357</td>\n",
       "      <td>6099</td>\n",
       "      <td>5.853419</td>\n",
       "    </tr>\n",
       "    <tr>\n",
       "      <th>30</th>\n",
       "      <td>#coronavirus</td>\n",
       "      <td>221</td>\n",
       "      <td>6099</td>\n",
       "      <td>3.623545</td>\n",
       "    </tr>\n",
       "    <tr>\n",
       "      <th>1</th>\n",
       "      <td>#corona</td>\n",
       "      <td>198</td>\n",
       "      <td>6099</td>\n",
       "      <td>3.246434</td>\n",
       "    </tr>\n",
       "    <tr>\n",
       "      <th>2</th>\n",
       "      <td>#covid19</td>\n",
       "      <td>139</td>\n",
       "      <td>6099</td>\n",
       "      <td>2.279062</td>\n",
       "    </tr>\n",
       "  </tbody>\n",
       "</table>\n",
       "</div>"
      ],
      "text/plain": [
       "                hashtag  num   sum       pct\n",
       "56  #bersamacegahcorona  573  6099  9.394983\n",
       "4          #viruscorona  357  6099  5.853419\n",
       "30         #coronavirus  221  6099  3.623545\n",
       "1               #corona  198  6099  3.246434\n",
       "2              #covid19  139  6099  2.279062"
      ]
     },
     "execution_count": 43,
     "metadata": {},
     "output_type": "execute_result"
    }
   ],
   "source": [
    "#Februari\n",
    "all_hashtags = list(df_filtered[df_filtered['month'] == 'feb']['hashtags'])\n",
    "all_hashtags = Counter([item for sublist in all_hashtags for item in sublist])\n",
    "all_hashtags = pd.DataFrame.from_dict(all_hashtags, orient='index').reset_index()\n",
    "all_hashtags.columns = ['hashtag', 'num']\n",
    "all_hashtags['sum'] = np.sum(all_hashtags['num'])\n",
    "all_hashtags['pct'] = 100 * all_hashtags['num']/all_hashtags['sum']\n",
    "all_hashtags = all_hashtags.sort_values('pct', ascending = False).head(5)\n",
    "all_hashtags"
   ]
  },
  {
   "cell_type": "code",
   "execution_count": 44,
   "metadata": {},
   "outputs": [
    {
     "data": {
      "text/html": [
       "<div>\n",
       "<style scoped>\n",
       "    .dataframe tbody tr th:only-of-type {\n",
       "        vertical-align: middle;\n",
       "    }\n",
       "\n",
       "    .dataframe tbody tr th {\n",
       "        vertical-align: top;\n",
       "    }\n",
       "\n",
       "    .dataframe thead th {\n",
       "        text-align: right;\n",
       "    }\n",
       "</style>\n",
       "<table border=\"1\" class=\"dataframe\">\n",
       "  <thead>\n",
       "    <tr style=\"text-align: right;\">\n",
       "      <th></th>\n",
       "      <th>hashtag</th>\n",
       "      <th>num</th>\n",
       "      <th>sum</th>\n",
       "      <th>pct</th>\n",
       "    </tr>\n",
       "  </thead>\n",
       "  <tbody>\n",
       "    <tr>\n",
       "      <th>4</th>\n",
       "      <td>#covid19</td>\n",
       "      <td>1367</td>\n",
       "      <td>24649</td>\n",
       "      <td>5.545864</td>\n",
       "    </tr>\n",
       "    <tr>\n",
       "      <th>33</th>\n",
       "      <td>#dirumahaja</td>\n",
       "      <td>1007</td>\n",
       "      <td>24649</td>\n",
       "      <td>4.085358</td>\n",
       "    </tr>\n",
       "    <tr>\n",
       "      <th>43</th>\n",
       "      <td>#stayathome</td>\n",
       "      <td>596</td>\n",
       "      <td>24649</td>\n",
       "      <td>2.417948</td>\n",
       "    </tr>\n",
       "    <tr>\n",
       "      <th>215</th>\n",
       "      <td>#viruscorona</td>\n",
       "      <td>522</td>\n",
       "      <td>24649</td>\n",
       "      <td>2.117733</td>\n",
       "    </tr>\n",
       "    <tr>\n",
       "      <th>106</th>\n",
       "      <td>#31mardisinfektanmassal</td>\n",
       "      <td>440</td>\n",
       "      <td>24649</td>\n",
       "      <td>1.785062</td>\n",
       "    </tr>\n",
       "  </tbody>\n",
       "</table>\n",
       "</div>"
      ],
      "text/plain": [
       "                     hashtag   num    sum       pct\n",
       "4                   #covid19  1367  24649  5.545864\n",
       "33               #dirumahaja  1007  24649  4.085358\n",
       "43               #stayathome   596  24649  2.417948\n",
       "215             #viruscorona   522  24649  2.117733\n",
       "106  #31mardisinfektanmassal   440  24649  1.785062"
      ]
     },
     "execution_count": 44,
     "metadata": {},
     "output_type": "execute_result"
    }
   ],
   "source": [
    "#Maret\n",
    "all_hashtags = list(df_filtered[df_filtered['month'] == 'mar']['hashtags'])\n",
    "all_hashtags = Counter([item for sublist in all_hashtags for item in sublist])\n",
    "all_hashtags = pd.DataFrame.from_dict(all_hashtags, orient='index').reset_index()\n",
    "all_hashtags.columns = ['hashtag', 'num']\n",
    "all_hashtags['sum'] = np.sum(all_hashtags['num'])\n",
    "all_hashtags['pct'] = 100 * all_hashtags['num']/all_hashtags['sum']\n",
    "all_hashtags = all_hashtags.sort_values('pct', ascending = False).head(5)\n",
    "all_hashtags"
   ]
  },
  {
   "cell_type": "code",
   "execution_count": 45,
   "metadata": {},
   "outputs": [
    {
     "data": {
      "text/html": [
       "<div>\n",
       "<style scoped>\n",
       "    .dataframe tbody tr th:only-of-type {\n",
       "        vertical-align: middle;\n",
       "    }\n",
       "\n",
       "    .dataframe tbody tr th {\n",
       "        vertical-align: top;\n",
       "    }\n",
       "\n",
       "    .dataframe thead th {\n",
       "        text-align: right;\n",
       "    }\n",
       "</style>\n",
       "<table border=\"1\" class=\"dataframe\">\n",
       "  <thead>\n",
       "    <tr style=\"text-align: right;\">\n",
       "      <th></th>\n",
       "      <th>hashtag</th>\n",
       "      <th>num</th>\n",
       "      <th>sum</th>\n",
       "      <th>pct</th>\n",
       "    </tr>\n",
       "  </thead>\n",
       "  <tbody>\n",
       "    <tr>\n",
       "      <th>2</th>\n",
       "      <td>#covid19</td>\n",
       "      <td>1133</td>\n",
       "      <td>21662</td>\n",
       "      <td>5.230357</td>\n",
       "    </tr>\n",
       "    <tr>\n",
       "      <th>49</th>\n",
       "      <td>#dirumahaja</td>\n",
       "      <td>672</td>\n",
       "      <td>21662</td>\n",
       "      <td>3.102207</td>\n",
       "    </tr>\n",
       "    <tr>\n",
       "      <th>163</th>\n",
       "      <td>#bersamapolribantuwarga</td>\n",
       "      <td>506</td>\n",
       "      <td>21662</td>\n",
       "      <td>2.335888</td>\n",
       "    </tr>\n",
       "    <tr>\n",
       "      <th>57</th>\n",
       "      <td>#stayathome</td>\n",
       "      <td>385</td>\n",
       "      <td>21662</td>\n",
       "      <td>1.777306</td>\n",
       "    </tr>\n",
       "    <tr>\n",
       "      <th>38</th>\n",
       "      <td>#viruscorona</td>\n",
       "      <td>324</td>\n",
       "      <td>21662</td>\n",
       "      <td>1.495707</td>\n",
       "    </tr>\n",
       "  </tbody>\n",
       "</table>\n",
       "</div>"
      ],
      "text/plain": [
       "                     hashtag   num    sum       pct\n",
       "2                   #covid19  1133  21662  5.230357\n",
       "49               #dirumahaja   672  21662  3.102207\n",
       "163  #bersamapolribantuwarga   506  21662  2.335888\n",
       "57               #stayathome   385  21662  1.777306\n",
       "38              #viruscorona   324  21662  1.495707"
      ]
     },
     "execution_count": 45,
     "metadata": {},
     "output_type": "execute_result"
    }
   ],
   "source": [
    "#April\n",
    "all_hashtags = list(df_filtered[df_filtered['month'] == 'apr']['hashtags'])\n",
    "all_hashtags = Counter([item for sublist in all_hashtags for item in sublist])\n",
    "all_hashtags = pd.DataFrame.from_dict(all_hashtags, orient='index').reset_index()\n",
    "all_hashtags.columns = ['hashtag', 'num']\n",
    "all_hashtags['sum'] = np.sum(all_hashtags['num'])\n",
    "all_hashtags['pct'] = 100 * all_hashtags['num']/all_hashtags['sum']\n",
    "all_hashtags = all_hashtags.sort_values('pct', ascending = False).head(5)\n",
    "all_hashtags"
   ]
  },
  {
   "cell_type": "code",
   "execution_count": 46,
   "metadata": {},
   "outputs": [
    {
     "data": {
      "text/html": [
       "<div>\n",
       "<style scoped>\n",
       "    .dataframe tbody tr th:only-of-type {\n",
       "        vertical-align: middle;\n",
       "    }\n",
       "\n",
       "    .dataframe tbody tr th {\n",
       "        vertical-align: top;\n",
       "    }\n",
       "\n",
       "    .dataframe thead th {\n",
       "        text-align: right;\n",
       "    }\n",
       "</style>\n",
       "<table border=\"1\" class=\"dataframe\">\n",
       "  <thead>\n",
       "    <tr style=\"text-align: right;\">\n",
       "      <th></th>\n",
       "      <th>hashtag</th>\n",
       "      <th>num</th>\n",
       "      <th>sum</th>\n",
       "      <th>pct</th>\n",
       "    </tr>\n",
       "  </thead>\n",
       "  <tbody>\n",
       "    <tr>\n",
       "      <th>11</th>\n",
       "      <td>#covid19</td>\n",
       "      <td>1060</td>\n",
       "      <td>25309</td>\n",
       "      <td>4.188233</td>\n",
       "    </tr>\n",
       "    <tr>\n",
       "      <th>51</th>\n",
       "      <td>#dirumahajalebihbaik</td>\n",
       "      <td>868</td>\n",
       "      <td>25309</td>\n",
       "      <td>3.429610</td>\n",
       "    </tr>\n",
       "    <tr>\n",
       "      <th>49</th>\n",
       "      <td>#patuhiprotokolcovid19</td>\n",
       "      <td>678</td>\n",
       "      <td>25309</td>\n",
       "      <td>2.678889</td>\n",
       "    </tr>\n",
       "    <tr>\n",
       "      <th>23</th>\n",
       "      <td>#dirumahaja</td>\n",
       "      <td>603</td>\n",
       "      <td>25309</td>\n",
       "      <td>2.382552</td>\n",
       "    </tr>\n",
       "    <tr>\n",
       "      <th>190</th>\n",
       "      <td>#polriberbagikasih</td>\n",
       "      <td>487</td>\n",
       "      <td>25309</td>\n",
       "      <td>1.924217</td>\n",
       "    </tr>\n",
       "  </tbody>\n",
       "</table>\n",
       "</div>"
      ],
      "text/plain": [
       "                    hashtag   num    sum       pct\n",
       "11                 #covid19  1060  25309  4.188233\n",
       "51     #dirumahajalebihbaik   868  25309  3.429610\n",
       "49   #patuhiprotokolcovid19   678  25309  2.678889\n",
       "23              #dirumahaja   603  25309  2.382552\n",
       "190      #polriberbagikasih   487  25309  1.924217"
      ]
     },
     "execution_count": 46,
     "metadata": {},
     "output_type": "execute_result"
    }
   ],
   "source": [
    "#Mei\n",
    "all_hashtags = list(df_filtered[df_filtered['month'] == 'may']['hashtags'])\n",
    "all_hashtags = Counter([item for sublist in all_hashtags for item in sublist])\n",
    "all_hashtags = pd.DataFrame.from_dict(all_hashtags, orient='index').reset_index()\n",
    "all_hashtags.columns = ['hashtag', 'num']\n",
    "all_hashtags['sum'] = np.sum(all_hashtags['num'])\n",
    "all_hashtags['pct'] = 100 * all_hashtags['num']/all_hashtags['sum']\n",
    "all_hashtags = all_hashtags.sort_values('pct', ascending = False).head(5)\n",
    "all_hashtags"
   ]
  },
  {
   "cell_type": "markdown",
   "metadata": {},
   "source": [
    "Di bawah ini disajikan visualisasi frekuensi kemunculan _hashtag-hashtag_ secara keseluruhan (dari bulan Januari sampai Mei)."
   ]
  },
  {
   "cell_type": "code",
   "execution_count": 85,
   "metadata": {},
   "outputs": [
    {
     "data": {
      "image/png": "[encoded data removed]",
      "text/plain": [
       "<PIL.PngImagePlugin.PngImageFile image mode=RGB size=512x512 at 0x1810DC0F0>"
      ]
     },
     "execution_count": 85,
     "metadata": {},
     "output_type": "execute_result"
    }
   ],
   "source": [
    "df_filtered['hashtags_texts'] = df_filtered['hashtags'].apply(lambda x: ' '.join(x))\n",
    "long_string = ','.join(list(df_filtered['hashtags_texts'].values))\n",
    "stylecloud.gen_stylecloud(text=long_string, icon_name='fas fa-hashtag', max_words=100, palette='cartocolors.diverging.Earth_2', output_name='hashtags.png')\n",
    "Image.open('hashtags.png')"
   ]
  },
  {
   "cell_type": "markdown",
   "metadata": {},
   "source": [
    "Dari analisis ini, kita bisa melihat bahwa _hashtag-hashtag_ terpopuler berubah setiap bulannya. Pada bulan Januari dan Februari, _hashtag-hashtag_ populer cenderung bersifat umum. Pada bulan Maret, _hashtag_ yang berhubungan dengan _stay-at-home_ mulai bermunculan setelah meningkatnya kasus koronavirus di Indonesia. _Hashtag_ yang berhubungan dengan POLRI pun mulai banyak digunakan semenjak Maret, seperti $\\texttt{#31mardisinfektanmassal}$, $\\texttt{#bersamapolribantuwarga}$, $\\texttt{\t#patuhiprotokolcovid19}$ dan $\\texttt{#polriberbagikasih}$."
   ]
  },
  {
   "cell_type": "markdown",
   "metadata": {},
   "source": [
    "### Keterbatasan\n",
    "\n",
    "Studi ini memiliki berbagai keterbatasan, di antaranya:\n",
    "1. Twit-twit untuk analisis ini didapatkan dari _tweet ID_ yang disaring oleh Chen et al. (2020). Dalam makalah penelitiannya, dijelaskan bahwa _tweet ID_ tersebut diperoleh menggunakan API _streaming_ gratis dari Twitter, yang hanya menghasilkan 1% dari keseluruhan twit\n",
    "2. Hanya twit-twit berbahasa Indonesia yang dianalisis. Selain itu, penyaringan lokasi yang kami lakukan membuang sejumlah twit berbahasa Indonesia yang ditulis oleh pengguna yang tidak mencamtukan lokasi (atau pengguna dengan lokasi yang tidak umum)\n",
    "3. Kami hanya mengambil sampel 7 hari terakhir pada tiap bulan (kecuali Mei, di mana sampel kami adalah twit-twit yang ditulis pada pertengahan Mei) untuk merepresentasikan bulan-bulan tersebut. Hal ini dikarenakan lamanya pengambilan twit-twit dan atributnya akibat pembatasan yang diberlakukan Twitter.\n",
    "4. Kami tidak melakukan _hyperparameter tuning_ secara komprehensif untuk model LDA dan STTM yang digunakan."
   ]
  }
 ],
 "metadata": {
  "kernelspec": {
   "display_name": "Python 3",
   "language": "python",
   "name": "python3"
  },
  "language_info": {
   "codemirror_mode": {
    "name": "ipython",
    "version": 3
   },
   "file_extension": ".py",
   "mimetype": "text/x-python",
   "name": "python",
   "nbconvert_exporter": "python",
   "pygments_lexer": "ipython3",
   "version": "3.6.10"
  }
 },
 "nbformat": 4,
 "nbformat_minor": 4
}
